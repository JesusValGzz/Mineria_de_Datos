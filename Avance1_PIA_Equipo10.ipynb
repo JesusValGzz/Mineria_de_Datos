{
  "nbformat": 4,
  "nbformat_minor": 0,
  "metadata": {
    "colab": {
      "name": "Copia de Te damos la bienvenida a Colaboratory",
      "provenance": [],
      "collapsed_sections": [],
      "include_colab_link": true
    },
    "kernelspec": {
      "display_name": "Python 3",
      "name": "python3"
    }
  },
  "cells": [
    {
      "cell_type": "markdown",
      "metadata": {
        "id": "view-in-github",
        "colab_type": "text"
      },
      "source": [
        "<a href=\"https://colab.research.google.com/github/JesusValGzz/Mineria_de_Datos/blob/main/Avance1_PIA_Equipo10.ipynb\" target=\"_parent\"><img src=\"https://colab.research.google.com/assets/colab-badge.svg\" alt=\"Open In Colab\"/></a>"
      ]
    },
    {
      "cell_type": "markdown",
      "metadata": {
        "id": "TimUJ-XcUfjj"
      },
      "source": [
        "## **Avance** **PIA**"
      ]
    },
    {
      "cell_type": "markdown",
      "metadata": {
        "id": "8SfV10T0VYSr"
      },
      "source": [
        "Equipo: 10 \n",
        "\n",
        "Grupo: 002, 3 horas / semana \n",
        "\n",
        "Integrantes:\n",
        "\n",
        "1864878 Cerda Serrato Alan René\n",
        "\n",
        "\n",
        "\n",
        "1867341 Cruz Lerma Jorge Antonio \n",
        "\n",
        "1630606 Valencia Gonzalez Jesus Eduardo\n"
      ]
    },
    {
      "cell_type": "markdown",
      "metadata": {
        "id": "mYc_5ghjUl1o"
      },
      "source": [
        "# 1.- Base de Datos: Datos históricos del Bitcoin"
      ]
    },
    {
      "cell_type": "markdown",
      "metadata": {
        "id": "AGZ4SFNPXDVl"
      },
      "source": [
        "> A) Historical Bitcoin Data\n",
        "\n",
        "> B) https://www.kaggle.com/umeshkumar017/historical-bitcoin-data?select=Bitcoin+Historical+Data+-+In+Rupees.csv\n",
        "\n",
        "\n",
        "\n",
        "\n",
        "\n",
        "\n"
      ]
    },
    {
      "cell_type": "markdown",
      "metadata": {
        "id": "iA9YmCM_XnYK"
      },
      "source": [
        "# 2.- Introducción General"
      ]
    },
    {
      "cell_type": "markdown",
      "metadata": {
        "id": "1FyZoc9GXzZA"
      },
      "source": [
        "\n",
        "\n",
        "> A) ¿Qué es el Bitcoin? \n",
        "\n",
        ">Bitcoin es un protocolo, proyecto de código abierto y red entre iguales que se utiliza como criptomoneda, sistema de pago y mercancía.\n",
        ">Fue concebida en 2008​ por una entidad conocida bajo el seudónimo de Satoshi Nakamoto, cuya identidad concreta se desconoce. \n",
        ">En la actualidad una cantidad considerable de empresas y pequeños negocios aceptan bitcoins como medio de pago​ para servicios de todo tipo. Su alcance internacional, y el hecho de que los usuarios pueden comerciar de forma pseudoanónima, ha permitido que se abra paso en sectores cada vez más regulados, como apuestas en línea y partidas de póker.\n",
        "\n",
        ">El uso de Bitcoin y los servicios relacionados con él están sujetos a la legislación de cada país, provincia, municipio, u otras entidades administrativas, pudiendo ser legal o ilegal dependiendo de si se han realizado decretos al respecto, o como consecuencia de la decisión expresa de reconocer o tratarlo como divisa, valor, mercancía, etc, por alguna entidad reguladora con jurisdicción en alguna de esas materias. \n",
        "\n"
      ]
    },
    {
      "cell_type": "markdown",
      "metadata": {
        "id": "D_tOQBbIZczl"
      },
      "source": [
        "# 3.- Descripción de los datos"
      ]
    },
    {
      "cell_type": "markdown",
      "metadata": {
        "id": "F3uucy5BZrw3"
      },
      "source": [
        "> A) Los datos son descritos con una tabla que avanza mediante el tiempo, registrando la variabilidad de valor en la moneda. No presenta gráficos ni recursos visuales.\n",
        "\n",
        "> B) Se tienen 7 columnas, las cuales son:\n",
        "1.   **Date** <- Fecha del dia a registrar.\n",
        "2.   **Price** <- Precio de la moneda.\n",
        "3.   **Open** <- Valor de apertura.\n",
        "4.   **High** <- El valor más alto.\n",
        "5.   **Low** <- El valor más bajo.\n",
        "6.   **Vol.** <- Volumen de Bitcoins comerciados.\n",
        "7.   **Change %** <- Porcentaje de cambio.\n"
      ]
    },
    {
      "cell_type": "markdown",
      "metadata": {
        "id": "9D7l40nBcr9N"
      },
      "source": [
        "# 4.- Justificación del uso de datos"
      ]
    },
    {
      "cell_type": "markdown",
      "metadata": {
        "id": "N86fbQYkdMtf"
      },
      "source": [
        "> A) Tenemos una gran curiosidad por el Bitcoin especialmente porque el mundo de las criptomonedas es algo que está en tendencias actualmente, sobre todo por su altísimo valor ( a fecha de hoy, 30/08/2021, 1 bitcoin equivale a 975,756.02 pesos mexicanos. \n",
        "> Pueden tomar aún mas relevancia en el futuro, y para nuestra carrera (Actuaría), es de suma importancia estar enterados de las nuevas tendencias del mundo financiero.\n",
        "\n",
        "> B) Alguno de los beneficios sobre estar investigando acerca de este tema, es que podriamos estar mejor preparados para una posible inversión u otro movimiento con la moneda.\n",
        "Creemos que sin duda es un tema muy relevante, ya que las criptomonedas pueden ser el futuro de la economía."
      ]
    },
    {
      "cell_type": "markdown",
      "metadata": {
        "id": "yxaHspRfgYzr"
      },
      "source": [
        "# 5.- Objetivo final"
      ]
    },
    {
      "cell_type": "markdown",
      "metadata": {
        "id": "gO8nhnpYhC32"
      },
      "source": [
        "> A) El objetivo principal es aprender, estudiar y analizar la complejidad del mundo de las criptomonedas, ésta en particular porque es la moneda más popular y con mayor auge actualmente.\n",
        "Además de que, como se mencionó anteriormente, podrían hacerse futuras inversiones o minerías.\n",
        "\n",
        "> \n"
      ]
    },
    {
      "cell_type": "markdown",
      "metadata": {
        "id": "pqzaFWiCnpp3"
      },
      "source": [
        "# 6.- Preguntas de Interés"
      ]
    },
    {
      "cell_type": "markdown",
      "metadata": {
        "id": "Rt0NNdXtn014"
      },
      "source": [
        ">1.-¿Son las criptomonedas(El Bitcoin) el futuro de la economia en el mundo?\n",
        "\n",
        ">2.-¿Es posible que la digitalización del dinero tenga algo que ver con el auge del bitcoin?"
      ]
    },
    {
      "cell_type": "markdown",
      "metadata": {
        "id": "R1J1MFu2qu69"
      },
      "source": [
        "# 7.- Parte de la Programación (Eduardo)"
      ]
    },
    {
      "cell_type": "code",
      "metadata": {
        "id": "wycJnZQuHzHu"
      },
      "source": [
        "import pandas as pd\n",
        "import numpy as np\n",
        "import json"
      ],
      "execution_count": 140,
      "outputs": []
    },
    {
      "cell_type": "code",
      "metadata": {
        "id": "eCLR5LcaICE4"
      },
      "source": [
        "df = pd.read_csv(\"/content/sample_data/Bitcoin Historical Data.csv\")\n",
        "df = pd.read_csv(\"/content/sample_data/Bitcoin Historical Data.csv\",encoding='utf8')"
      ],
      "execution_count": 141,
      "outputs": []
    },
    {
      "cell_type": "markdown",
      "metadata": {
        "id": "-T3OmxL5Ib4z"
      },
      "source": [
        "**Visualización de los datos**"
      ]
    },
    {
      "cell_type": "code",
      "metadata": {
        "colab": {
          "base_uri": "https://localhost:8080/"
        },
        "id": "0Q0t5_TZIWBP",
        "outputId": "b791b7d4-5376-4869-d2a5-ce59c40d5742"
      },
      "source": [
        "df.shape"
      ],
      "execution_count": 143,
      "outputs": [
        {
          "output_type": "execute_result",
          "data": {
            "text/plain": [
              "(4056, 7)"
            ]
          },
          "metadata": {},
          "execution_count": 143
        }
      ]
    },
    {
      "cell_type": "markdown",
      "metadata": {
        "id": "23yfQxciIgXz"
      },
      "source": [
        "Vista de los primeros 5 registros"
      ]
    },
    {
      "cell_type": "code",
      "metadata": {
        "colab": {
          "base_uri": "https://localhost:8080/",
          "height": 204
        },
        "id": "_QZruWPIIZHr",
        "outputId": "bc3a3069-391b-415f-9607-8f871dbd945c"
      },
      "source": [
        "df.head()"
      ],
      "execution_count": 144,
      "outputs": [
        {
          "output_type": "execute_result",
          "data": {
            "text/html": [
              "<div>\n",
              "<style scoped>\n",
              "    .dataframe tbody tr th:only-of-type {\n",
              "        vertical-align: middle;\n",
              "    }\n",
              "\n",
              "    .dataframe tbody tr th {\n",
              "        vertical-align: top;\n",
              "    }\n",
              "\n",
              "    .dataframe thead th {\n",
              "        text-align: right;\n",
              "    }\n",
              "</style>\n",
              "<table border=\"1\" class=\"dataframe\">\n",
              "  <thead>\n",
              "    <tr style=\"text-align: right;\">\n",
              "      <th></th>\n",
              "      <th>Date</th>\n",
              "      <th>Price</th>\n",
              "      <th>Open</th>\n",
              "      <th>High</th>\n",
              "      <th>Low</th>\n",
              "      <th>Vol.</th>\n",
              "      <th>Change %</th>\n",
              "    </tr>\n",
              "  </thead>\n",
              "  <tbody>\n",
              "    <tr>\n",
              "      <th>0</th>\n",
              "      <td>Aug 24, 2021</td>\n",
              "      <td>48,846.3</td>\n",
              "      <td>49,532.5</td>\n",
              "      <td>49,847.4</td>\n",
              "      <td>48,812.4</td>\n",
              "      <td>59.89K</td>\n",
              "      <td>-1.40%</td>\n",
              "    </tr>\n",
              "    <tr>\n",
              "      <th>1</th>\n",
              "      <td>Aug 23, 2021</td>\n",
              "      <td>49,539.7</td>\n",
              "      <td>49,255.4</td>\n",
              "      <td>50,498.8</td>\n",
              "      <td>49,038.6</td>\n",
              "      <td>75.37K</td>\n",
              "      <td>0.58%</td>\n",
              "    </tr>\n",
              "    <tr>\n",
              "      <th>2</th>\n",
              "      <td>Aug 22, 2021</td>\n",
              "      <td>49,254.5</td>\n",
              "      <td>48,870.4</td>\n",
              "      <td>49,480.3</td>\n",
              "      <td>48,151.0</td>\n",
              "      <td>49.32K</td>\n",
              "      <td>0.77%</td>\n",
              "    </tr>\n",
              "    <tr>\n",
              "      <th>3</th>\n",
              "      <td>Aug 21, 2021</td>\n",
              "      <td>48,875.8</td>\n",
              "      <td>49,330.0</td>\n",
              "      <td>49,719.1</td>\n",
              "      <td>48,293.5</td>\n",
              "      <td>18.20K</td>\n",
              "      <td>-0.91%</td>\n",
              "    </tr>\n",
              "    <tr>\n",
              "      <th>4</th>\n",
              "      <td>Aug 20, 2021</td>\n",
              "      <td>49,324.0</td>\n",
              "      <td>46,756.7</td>\n",
              "      <td>49,343.3</td>\n",
              "      <td>46,646.8</td>\n",
              "      <td>83.19K</td>\n",
              "      <td>5.49%</td>\n",
              "    </tr>\n",
              "  </tbody>\n",
              "</table>\n",
              "</div>"
            ],
            "text/plain": [
              "           Date     Price      Open      High       Low    Vol. Change %\n",
              "0  Aug 24, 2021  48,846.3  49,532.5  49,847.4  48,812.4  59.89K   -1.40%\n",
              "1  Aug 23, 2021  49,539.7  49,255.4  50,498.8  49,038.6  75.37K    0.58%\n",
              "2  Aug 22, 2021  49,254.5  48,870.4  49,480.3  48,151.0  49.32K    0.77%\n",
              "3  Aug 21, 2021  48,875.8  49,330.0  49,719.1  48,293.5  18.20K   -0.91%\n",
              "4  Aug 20, 2021  49,324.0  46,756.7  49,343.3  46,646.8  83.19K    5.49%"
            ]
          },
          "metadata": {},
          "execution_count": 144
        }
      ]
    },
    {
      "cell_type": "markdown",
      "metadata": {
        "id": "Blhb3q42Ilyf"
      },
      "source": [
        "Vista de los ultimos 5 registros"
      ]
    },
    {
      "cell_type": "code",
      "metadata": {
        "colab": {
          "base_uri": "https://localhost:8080/",
          "height": 204
        },
        "id": "nrNNneP-IpA5",
        "outputId": "84ff946d-ad05-41eb-8780-ad0cd20e3f75"
      },
      "source": [
        "df.tail()"
      ],
      "execution_count": 145,
      "outputs": [
        {
          "output_type": "execute_result",
          "data": {
            "text/html": [
              "<div>\n",
              "<style scoped>\n",
              "    .dataframe tbody tr th:only-of-type {\n",
              "        vertical-align: middle;\n",
              "    }\n",
              "\n",
              "    .dataframe tbody tr th {\n",
              "        vertical-align: top;\n",
              "    }\n",
              "\n",
              "    .dataframe thead th {\n",
              "        text-align: right;\n",
              "    }\n",
              "</style>\n",
              "<table border=\"1\" class=\"dataframe\">\n",
              "  <thead>\n",
              "    <tr style=\"text-align: right;\">\n",
              "      <th></th>\n",
              "      <th>Date</th>\n",
              "      <th>Price</th>\n",
              "      <th>Open</th>\n",
              "      <th>High</th>\n",
              "      <th>Low</th>\n",
              "      <th>Vol.</th>\n",
              "      <th>Change %</th>\n",
              "    </tr>\n",
              "  </thead>\n",
              "  <tbody>\n",
              "    <tr>\n",
              "      <th>4051</th>\n",
              "      <td>Jul 22, 2010</td>\n",
              "      <td>0.1</td>\n",
              "      <td>0.1</td>\n",
              "      <td>0.1</td>\n",
              "      <td>0.1</td>\n",
              "      <td>2.16K</td>\n",
              "      <td>0.00%</td>\n",
              "    </tr>\n",
              "    <tr>\n",
              "      <th>4052</th>\n",
              "      <td>Jul 21, 2010</td>\n",
              "      <td>0.1</td>\n",
              "      <td>0.1</td>\n",
              "      <td>0.1</td>\n",
              "      <td>0.1</td>\n",
              "      <td>0.58K</td>\n",
              "      <td>0.00%</td>\n",
              "    </tr>\n",
              "    <tr>\n",
              "      <th>4053</th>\n",
              "      <td>Jul 20, 2010</td>\n",
              "      <td>0.1</td>\n",
              "      <td>0.1</td>\n",
              "      <td>0.1</td>\n",
              "      <td>0.1</td>\n",
              "      <td>0.26K</td>\n",
              "      <td>0.00%</td>\n",
              "    </tr>\n",
              "    <tr>\n",
              "      <th>4054</th>\n",
              "      <td>Jul 19, 2010</td>\n",
              "      <td>0.1</td>\n",
              "      <td>0.1</td>\n",
              "      <td>0.1</td>\n",
              "      <td>0.1</td>\n",
              "      <td>0.57K</td>\n",
              "      <td>0.00%</td>\n",
              "    </tr>\n",
              "    <tr>\n",
              "      <th>4055</th>\n",
              "      <td>Jul 18, 2010</td>\n",
              "      <td>0.1</td>\n",
              "      <td>0.0</td>\n",
              "      <td>0.1</td>\n",
              "      <td>0.1</td>\n",
              "      <td>0.08K</td>\n",
              "      <td>0.00%</td>\n",
              "    </tr>\n",
              "  </tbody>\n",
              "</table>\n",
              "</div>"
            ],
            "text/plain": [
              "              Date Price Open High  Low   Vol. Change %\n",
              "4051  Jul 22, 2010   0.1  0.1  0.1  0.1  2.16K    0.00%\n",
              "4052  Jul 21, 2010   0.1  0.1  0.1  0.1  0.58K    0.00%\n",
              "4053  Jul 20, 2010   0.1  0.1  0.1  0.1  0.26K    0.00%\n",
              "4054  Jul 19, 2010   0.1  0.1  0.1  0.1  0.57K    0.00%\n",
              "4055  Jul 18, 2010   0.1  0.0  0.1  0.1  0.08K    0.00%"
            ]
          },
          "metadata": {},
          "execution_count": 145
        }
      ]
    },
    {
      "cell_type": "markdown",
      "metadata": {
        "id": "luHuDOEuItUH"
      },
      "source": [
        "\n",
        "**Descrpcion básica de columnas**"
      ]
    },
    {
      "cell_type": "code",
      "metadata": {
        "colab": {
          "base_uri": "https://localhost:8080/"
        },
        "id": "Cu0kw3obIubf",
        "outputId": "e186e07d-9e9b-4e00-bb89-94c83d07bfd3"
      },
      "source": [
        "df.columns"
      ],
      "execution_count": 146,
      "outputs": [
        {
          "output_type": "execute_result",
          "data": {
            "text/plain": [
              "Index(['Date', 'Price', 'Open', 'High', 'Low', 'Vol.', 'Change %'], dtype='object')"
            ]
          },
          "metadata": {},
          "execution_count": 146
        }
      ]
    },
    {
      "cell_type": "markdown",
      "metadata": {
        "id": "A8NF3XFyI32p"
      },
      "source": [
        "\n",
        "Tipos de dato en las columnas"
      ]
    },
    {
      "cell_type": "code",
      "metadata": {
        "colab": {
          "base_uri": "https://localhost:8080/"
        },
        "id": "_joYIIDZI4lQ",
        "outputId": "0af2d355-7b5b-4093-bc37-767fb170aed7"
      },
      "source": [
        "df.dtypes"
      ],
      "execution_count": 147,
      "outputs": [
        {
          "output_type": "execute_result",
          "data": {
            "text/plain": [
              "Date        object\n",
              "Price       object\n",
              "Open        object\n",
              "High        object\n",
              "Low         object\n",
              "Vol.        object\n",
              "Change %    object\n",
              "dtype: object"
            ]
          },
          "metadata": {},
          "execution_count": 147
        }
      ]
    },
    {
      "cell_type": "markdown",
      "metadata": {
        "id": "LTrDxe9YI7DS"
      },
      "source": [
        "Cantidad de columnas nulas"
      ]
    },
    {
      "cell_type": "code",
      "metadata": {
        "colab": {
          "base_uri": "https://localhost:8080/"
        },
        "id": "sfM3hUYAI8Xv",
        "outputId": "f9da2fff-26e6-4edb-fea3-fc91298448a7"
      },
      "source": [
        "\n",
        "df.isnull().sum()"
      ],
      "execution_count": 148,
      "outputs": [
        {
          "output_type": "execute_result",
          "data": {
            "text/plain": [
              "Date        0\n",
              "Price       0\n",
              "Open        0\n",
              "High        0\n",
              "Low         0\n",
              "Vol.        0\n",
              "Change %    0\n",
              "dtype: int64"
            ]
          },
          "metadata": {},
          "execution_count": 148
        }
      ]
    },
    {
      "cell_type": "markdown",
      "metadata": {
        "id": "J18T428yI-va"
      },
      "source": [
        "**Cambiar nombres de columnas**"
      ]
    },
    {
      "cell_type": "code",
      "metadata": {
        "colab": {
          "base_uri": "https://localhost:8080/",
          "height": 419
        },
        "id": "jZmDgL4XJDOJ",
        "outputId": "6d090291-dd25-4533-fb62-029d449b73c1"
      },
      "source": [
        "df = df.rename(columns = {'Price':'Precio'})\n",
        "df = df.rename(columns = {'Date':'Fecha'})\n",
        "df = df.rename(columns = {'Open':'Mañana'})\n",
        "df = df.rename(columns = {'High':'Alto'})\n",
        "df = df.rename(columns = {'Low':'Bajo'})\n",
        "df = df.rename(columns = {'Vol.':'Volumen'})\n",
        "df = df.rename(columns = {'Change %':'CambioP'})\n",
        "df"
      ],
      "execution_count": 149,
      "outputs": [
        {
          "output_type": "execute_result",
          "data": {
            "text/html": [
              "<div>\n",
              "<style scoped>\n",
              "    .dataframe tbody tr th:only-of-type {\n",
              "        vertical-align: middle;\n",
              "    }\n",
              "\n",
              "    .dataframe tbody tr th {\n",
              "        vertical-align: top;\n",
              "    }\n",
              "\n",
              "    .dataframe thead th {\n",
              "        text-align: right;\n",
              "    }\n",
              "</style>\n",
              "<table border=\"1\" class=\"dataframe\">\n",
              "  <thead>\n",
              "    <tr style=\"text-align: right;\">\n",
              "      <th></th>\n",
              "      <th>Fecha</th>\n",
              "      <th>Precio</th>\n",
              "      <th>Mañana</th>\n",
              "      <th>Alto</th>\n",
              "      <th>Bajo</th>\n",
              "      <th>Volumen</th>\n",
              "      <th>CambioP</th>\n",
              "    </tr>\n",
              "  </thead>\n",
              "  <tbody>\n",
              "    <tr>\n",
              "      <th>0</th>\n",
              "      <td>Aug 24, 2021</td>\n",
              "      <td>48,846.3</td>\n",
              "      <td>49,532.5</td>\n",
              "      <td>49,847.4</td>\n",
              "      <td>48,812.4</td>\n",
              "      <td>59.89K</td>\n",
              "      <td>-1.40%</td>\n",
              "    </tr>\n",
              "    <tr>\n",
              "      <th>1</th>\n",
              "      <td>Aug 23, 2021</td>\n",
              "      <td>49,539.7</td>\n",
              "      <td>49,255.4</td>\n",
              "      <td>50,498.8</td>\n",
              "      <td>49,038.6</td>\n",
              "      <td>75.37K</td>\n",
              "      <td>0.58%</td>\n",
              "    </tr>\n",
              "    <tr>\n",
              "      <th>2</th>\n",
              "      <td>Aug 22, 2021</td>\n",
              "      <td>49,254.5</td>\n",
              "      <td>48,870.4</td>\n",
              "      <td>49,480.3</td>\n",
              "      <td>48,151.0</td>\n",
              "      <td>49.32K</td>\n",
              "      <td>0.77%</td>\n",
              "    </tr>\n",
              "    <tr>\n",
              "      <th>3</th>\n",
              "      <td>Aug 21, 2021</td>\n",
              "      <td>48,875.8</td>\n",
              "      <td>49,330.0</td>\n",
              "      <td>49,719.1</td>\n",
              "      <td>48,293.5</td>\n",
              "      <td>18.20K</td>\n",
              "      <td>-0.91%</td>\n",
              "    </tr>\n",
              "    <tr>\n",
              "      <th>4</th>\n",
              "      <td>Aug 20, 2021</td>\n",
              "      <td>49,324.0</td>\n",
              "      <td>46,756.7</td>\n",
              "      <td>49,343.3</td>\n",
              "      <td>46,646.8</td>\n",
              "      <td>83.19K</td>\n",
              "      <td>5.49%</td>\n",
              "    </tr>\n",
              "    <tr>\n",
              "      <th>...</th>\n",
              "      <td>...</td>\n",
              "      <td>...</td>\n",
              "      <td>...</td>\n",
              "      <td>...</td>\n",
              "      <td>...</td>\n",
              "      <td>...</td>\n",
              "      <td>...</td>\n",
              "    </tr>\n",
              "    <tr>\n",
              "      <th>4051</th>\n",
              "      <td>Jul 22, 2010</td>\n",
              "      <td>0.1</td>\n",
              "      <td>0.1</td>\n",
              "      <td>0.1</td>\n",
              "      <td>0.1</td>\n",
              "      <td>2.16K</td>\n",
              "      <td>0.00%</td>\n",
              "    </tr>\n",
              "    <tr>\n",
              "      <th>4052</th>\n",
              "      <td>Jul 21, 2010</td>\n",
              "      <td>0.1</td>\n",
              "      <td>0.1</td>\n",
              "      <td>0.1</td>\n",
              "      <td>0.1</td>\n",
              "      <td>0.58K</td>\n",
              "      <td>0.00%</td>\n",
              "    </tr>\n",
              "    <tr>\n",
              "      <th>4053</th>\n",
              "      <td>Jul 20, 2010</td>\n",
              "      <td>0.1</td>\n",
              "      <td>0.1</td>\n",
              "      <td>0.1</td>\n",
              "      <td>0.1</td>\n",
              "      <td>0.26K</td>\n",
              "      <td>0.00%</td>\n",
              "    </tr>\n",
              "    <tr>\n",
              "      <th>4054</th>\n",
              "      <td>Jul 19, 2010</td>\n",
              "      <td>0.1</td>\n",
              "      <td>0.1</td>\n",
              "      <td>0.1</td>\n",
              "      <td>0.1</td>\n",
              "      <td>0.57K</td>\n",
              "      <td>0.00%</td>\n",
              "    </tr>\n",
              "    <tr>\n",
              "      <th>4055</th>\n",
              "      <td>Jul 18, 2010</td>\n",
              "      <td>0.1</td>\n",
              "      <td>0.0</td>\n",
              "      <td>0.1</td>\n",
              "      <td>0.1</td>\n",
              "      <td>0.08K</td>\n",
              "      <td>0.00%</td>\n",
              "    </tr>\n",
              "  </tbody>\n",
              "</table>\n",
              "<p>4056 rows × 7 columns</p>\n",
              "</div>"
            ],
            "text/plain": [
              "             Fecha    Precio    Mañana      Alto      Bajo Volumen CambioP\n",
              "0     Aug 24, 2021  48,846.3  49,532.5  49,847.4  48,812.4  59.89K  -1.40%\n",
              "1     Aug 23, 2021  49,539.7  49,255.4  50,498.8  49,038.6  75.37K   0.58%\n",
              "2     Aug 22, 2021  49,254.5  48,870.4  49,480.3  48,151.0  49.32K   0.77%\n",
              "3     Aug 21, 2021  48,875.8  49,330.0  49,719.1  48,293.5  18.20K  -0.91%\n",
              "4     Aug 20, 2021  49,324.0  46,756.7  49,343.3  46,646.8  83.19K   5.49%\n",
              "...            ...       ...       ...       ...       ...     ...     ...\n",
              "4051  Jul 22, 2010       0.1       0.1       0.1       0.1   2.16K   0.00%\n",
              "4052  Jul 21, 2010       0.1       0.1       0.1       0.1   0.58K   0.00%\n",
              "4053  Jul 20, 2010       0.1       0.1       0.1       0.1   0.26K   0.00%\n",
              "4054  Jul 19, 2010       0.1       0.1       0.1       0.1   0.57K   0.00%\n",
              "4055  Jul 18, 2010       0.1       0.0       0.1       0.1   0.08K   0.00%\n",
              "\n",
              "[4056 rows x 7 columns]"
            ]
          },
          "metadata": {},
          "execution_count": 149
        }
      ]
    },
    {
      "cell_type": "markdown",
      "metadata": {
        "id": "DKKo1IC5Jmub"
      },
      "source": [
        "**Agrupacion de datos por Precio Unico x Dia**"
      ]
    },
    {
      "cell_type": "markdown",
      "metadata": {
        "id": "a7EKIPquJtzN"
      },
      "source": [
        "Precios Unicos en la Base"
      ]
    },
    {
      "cell_type": "code",
      "metadata": {
        "colab": {
          "base_uri": "https://localhost:8080/"
        },
        "id": "otnEzhCNJpVh",
        "outputId": "f25f2967-031e-4094-effc-4aabdf6c9524"
      },
      "source": [
        "list(df.Precio.unique())"
      ],
      "execution_count": 150,
      "outputs": [
        {
          "output_type": "execute_result",
          "data": {
            "text/plain": [
              "['48,846.3',\n",
              " '49,539.7',\n",
              " '49,254.5',\n",
              " '48,875.8',\n",
              " '49,324.0',\n",
              " '46,755.9',\n",
              " '44,723.8',\n",
              " '44,691.6',\n",
              " '45,996.3',\n",
              " '46,991.3',\n",
              " '47,081.5',\n",
              " '47,809.1',\n",
              " '44,403.4',\n",
              " '45,564.3',\n",
              " '45,593.8',\n",
              " '46,284.3',\n",
              " '43,792.8',\n",
              " '44,614.2',\n",
              " '42,795.4',\n",
              " '40,867.2',\n",
              " '39,736.9',\n",
              " '38,130.3',\n",
              " '39,168.4',\n",
              " '39,878.3',\n",
              " '41,553.7',\n",
              " '42,203.4',\n",
              " '40,001.4',\n",
              " '40,003.2',\n",
              " '39,452.0',\n",
              " '37,276.6',\n",
              " '35,391.1',\n",
              " '33,824.8',\n",
              " '33,603.3',\n",
              " '32,298.9',\n",
              " '32,131.4',\n",
              " '29,793.8',\n",
              " '30,837.2',\n",
              " '31,785.4',\n",
              " '31,518.6',\n",
              " '31,394.0',\n",
              " '31,840.5',\n",
              " '32,820.7',\n",
              " '32,728.1',\n",
              " '33,113.0',\n",
              " '34,227.7',\n",
              " '33,510.6',\n",
              " '33,797.4',\n",
              " '32,866.3',\n",
              " '33,867.8',\n",
              " '34,225.6',\n",
              " '33,687.8',\n",
              " '35,298.2',\n",
              " '34,742.8',\n",
              " '33,813.4',\n",
              " '33,543.6',\n",
              " '35,026.9',\n",
              " '35,834.7',\n",
              " '34,475.9',\n",
              " '34,678.5',\n",
              " '32,243.4',\n",
              " '31,594.0',\n",
              " '34,665.8',\n",
              " '33,674.3',\n",
              " '32,496.4',\n",
              " '31,692.0',\n",
              " '35,595.8',\n",
              " '35,513.4',\n",
              " '35,749.4',\n",
              " '38,052.0',\n",
              " '38,336.0',\n",
              " '40,156.1',\n",
              " '40,529.4',\n",
              " '39,022.9',\n",
              " '35,467.5',\n",
              " '37,314.6',\n",
              " '36,649.4',\n",
              " '37,332.2',\n",
              " '33,382.9',\n",
              " '33,578.0',\n",
              " '35,815.4',\n",
              " '35,520.0',\n",
              " '36,851.3',\n",
              " '39,187.3',\n",
              " '37,555.8',\n",
              " '36,687.6',\n",
              " '37,298.6',\n",
              " '35,652.8',\n",
              " '34,584.6',\n",
              " '35,662.5',\n",
              " '38,417.3',\n",
              " '39,249.2',\n",
              " '38,378.3',\n",
              " '38,750.6',\n",
              " '34,679.7',\n",
              " '37,448.3',\n",
              " '37,297.4',\n",
              " '40,717.2',\n",
              " '36,720.5',\n",
              " '42,897.3',\n",
              " '43,541.3',\n",
              " '46,426.4',\n",
              " '46,708.8',\n",
              " '49,839.8',\n",
              " '49,704.6',\n",
              " '49,384.2',\n",
              " '56,695.7',\n",
              " '55,848.9',\n",
              " '58,238.3',\n",
              " '58,840.1',\n",
              " '57,337.2',\n",
              " '56,405.4',\n",
              " '57,441.3',\n",
              " '53,741.5',\n",
              " '57,169.8',\n",
              " '56,603.8',\n",
              " '57,807.1',\n",
              " '57,720.3',\n",
              " '53,560.8',\n",
              " '54,841.4',\n",
              " '55,036.5',\n",
              " '54,020.5',\n",
              " '48,963.6',\n",
              " '50,088.9',\n",
              " '51,143.6',\n",
              " '51,729.5',\n",
              " '53,820.2',\n",
              " '56,483.2',\n",
              " '55,646.1',\n",
              " '56,207.1',\n",
              " '60,041.9',\n",
              " '61,379.7',\n",
              " '63,216.0',\n",
              " '62,980.4',\n",
              " '63,540.9',\n",
              " '59,863.8',\n",
              " '59,978.7',\n",
              " '59,748.4',\n",
              " '58,118.7',\n",
              " '58,077.4',\n",
              " '55,948.7',\n",
              " '57,996.3',\n",
              " '58,993.4',\n",
              " '58,199.9',\n",
              " '57,059.9',\n",
              " '58,977.3',\n",
              " '58,718.3',\n",
              " '58,763.7',\n",
              " '58,771.3',\n",
              " '57,616.2',\n",
              " '55,765.2',\n",
              " '55,862.9',\n",
              " '55,036.1',\n",
              " '51,322.3',\n",
              " '52,325.4',\n",
              " '54,452.5',\n",
              " '54,158.3',\n",
              " '57,383.8',\n",
              " '58,093.4',\n",
              " '58,088.0',\n",
              " '57,656.0',\n",
              " '58,913.5',\n",
              " '56,889.7',\n",
              " '55,791.3',\n",
              " '59,113.7',\n",
              " '61,195.3',\n",
              " '57,265.1',\n",
              " '57,799.5',\n",
              " '55,851.9',\n",
              " '54,879.0',\n",
              " '52,311.0',\n",
              " '50,982.3',\n",
              " '48,855.6',\n",
              " '48,792.5',\n",
              " '48,428.0',\n",
              " '50,395.1',\n",
              " '48,424.2',\n",
              " '49,595.5',\n",
              " '45,164.0',\n",
              " '46,136.7',\n",
              " '46,345.6',\n",
              " '46,928.5',\n",
              " '49,697.5',\n",
              " '48,911.2',\n",
              " '54,111.8',\n",
              " '57,433.8',\n",
              " '55,923.7',\n",
              " '55,906.6',\n",
              " '51,582.2',\n",
              " '52,079.2',\n",
              " '49,169.7',\n",
              " '47,936.3',\n",
              " '48,643.4',\n",
              " '47,168.7',\n",
              " '47,371.7',\n",
              " '47,990.7',\n",
              " '44,836.0',\n",
              " '46,508.6',\n",
              " '46,395.7',\n",
              " '38,852.9',\n",
              " '39,256.6',\n",
              " '38,297.6',\n",
              " '36,982.1',\n",
              " '37,646.8',\n",
              " '35,485.2',\n",
              " '33,515.7',\n",
              " '33,108.1',\n",
              " '34,283.1',\n",
              " '34,301.8',\n",
              " '33,374.8',\n",
              " '30,404.0',\n",
              " '32,502.1',\n",
              " '32,252.3',\n",
              " '32,241.3',\n",
              " '32,088.9',\n",
              " '33,000.5',\n",
              " '30,842.1',\n",
              " '35,476.3',\n",
              " '36,002.9',\n",
              " '36,613.2',\n",
              " '35,839.6',\n",
              " '36,019.5',\n",
              " '36,845.8',\n",
              " '39,175.7',\n",
              " '37,382.2',\n",
              " '34,076.1',\n",
              " '35,544.3',\n",
              " '38,192.2',\n",
              " '40,151.9',\n",
              " '40,599.3',\n",
              " '39,460.2',\n",
              " '36,793.2',\n",
              " '33,991.5',\n",
              " '32,022.6',\n",
              " '32,958.9',\n",
              " '32,193.3',\n",
              " '29,359.9',\n",
              " '28,949.4',\n",
              " '28,868.7',\n",
              " '27,376.0',\n",
              " '27,057.8',\n",
              " '26,261.3',\n",
              " '26,454.4',\n",
              " '24,689.6',\n",
              " '23,736.5',\n",
              " '23,257.9',\n",
              " '23,823.2',\n",
              " '22,728.5',\n",
              " '23,474.9',\n",
              " '23,844.0',\n",
              " '23,127.9',\n",
              " '22,825.4',\n",
              " '21,352.2',\n",
              " '19,434.9',\n",
              " '19,273.8',\n",
              " '19,176.8',\n",
              " '18,808.9',\n",
              " '18,023.6',\n",
              " '18,247.2',\n",
              " '18,546.0',\n",
              " '18,326.6',\n",
              " '19,170.7',\n",
              " '19,379.9',\n",
              " '19,146.5',\n",
              " '18,658.1',\n",
              " '19,433.3',\n",
              " '19,218.8',\n",
              " '18,770.7',\n",
              " '19,698.1',\n",
              " '18,185.5',\n",
              " '17,730.7',\n",
              " '17,127.1',\n",
              " '17,162.0',\n",
              " '18,723.0',\n",
              " '19,152.6',\n",
              " '18,379.6',\n",
              " '18,412.9',\n",
              " '18,687.2',\n",
              " '18,675.2',\n",
              " '17,803.5',\n",
              " '17,774.6',\n",
              " '17,662.3',\n",
              " '16,715.8',\n",
              " '15,953.0',\n",
              " '16,071.0',\n",
              " '16,324.2',\n",
              " '16,294.7',\n",
              " '15,695.8',\n",
              " '15,303.6',\n",
              " '15,327.2',\n",
              " '15,483.7',\n",
              " '14,828.4',\n",
              " '15,577.9',\n",
              " '15,587.1',\n",
              " '14,145.6',\n",
              " '14,019.9',\n",
              " '13,561.4',\n",
              " '13,759.4',\n",
              " '13,797.3',\n",
              " '13,559.9',\n",
              " '13,457.2',\n",
              " '13,278.9',\n",
              " '13,657.8',\n",
              " '13,061.6',\n",
              " '13,032.2',\n",
              " '13,117.2',\n",
              " '12,934.1',\n",
              " '12,974.6',\n",
              " '12,808.7',\n",
              " '11,913.5',\n",
              " '11,753.4',\n",
              " '11,506.9',\n",
              " '11,362.1',\n",
              " '11,322.0',\n",
              " '11,503.0',\n",
              " '11,420.4',\n",
              " '11,423.8',\n",
              " '11,533.9',\n",
              " '11,371.0',\n",
              " '11,298.4',\n",
              " '11,054.2',\n",
              " '10,924.1',\n",
              " '10,670.9',\n",
              " '10,602.6',\n",
              " '10,789.5',\n",
              " '10,672.9',\n",
              " '10,544.2',\n",
              " '10,572.3',\n",
              " '10,620.5',\n",
              " '10,776.1',\n",
              " '10,840.9',\n",
              " '10,693.2',\n",
              " '10,776.2',\n",
              " '10,727.9',\n",
              " '10,688.8',\n",
              " '10,739.4',\n",
              " '10,237.3',\n",
              " '10,531.5',\n",
              " '10,416.8',\n",
              " '10,921.5',\n",
              " '11,081.8',\n",
              " '10,933.0',\n",
              " '10,941.3',\n",
              " '10,949.5',\n",
              " '10,785.3',\n",
              " '10,675.3',\n",
              " '10,326.0',\n",
              " '10,441.9',\n",
              " '10,390.2',\n",
              " '10,339.7',\n",
              " '10,224.6',\n",
              " '10,126.6',\n",
              " '10,376.9',\n",
              " '10,296.4',\n",
              " '10,092.2',\n",
              " '10,472.5',\n",
              " '10,168.8',\n",
              " '11,413.3',\n",
              " '11,914.9',\n",
              " '11,644.2',\n",
              " '11,702.0',\n",
              " '11,468.1',\n",
              " '11,527.4',\n",
              " '11,327.4',\n",
              " '11,462.3',\n",
              " '11,324.8',\n",
              " '11,753.5',\n",
              " '11,641.6',\n",
              " '11,661.3',\n",
              " '11,529.2',\n",
              " '11,856.9',\n",
              " '11,750.2',\n",
              " '11,947.6',\n",
              " '12,282.6',\n",
              " '11,899.0',\n",
              " '11,845.3',\n",
              " '11,750.8',\n",
              " '11,770.9',\n",
              " '11,557.2',\n",
              " '11,390.4',\n",
              " '11,889.2',\n",
              " '11,681.2',\n",
              " '11,764.3',\n",
              " '11,592.0',\n",
              " '11,757.1',\n",
              " '11,735.1',\n",
              " '11,184.7',\n",
              " '11,224.4',\n",
              " '11,066.8',\n",
              " '11,803.1',\n",
              " '11,333.4',\n",
              " '11,096.2',\n",
              " '11,105.9',\n",
              " '10,908.5',\n",
              " '11,022.8',\n",
              " '9,932.5',\n",
              " '9,704.1',\n",
              " '9,546.4',\n",
              " '9,599.6',\n",
              " '9,513.7',\n",
              " '9,387.3',\n",
              " '9,162.4',\n",
              " '9,208.0',\n",
              " '9,170.2',\n",
              " '9,155.8',\n",
              " '9,135.3',\n",
              " '9,198.7',\n",
              " '9,253.4',\n",
              " '9,243.6',\n",
              " '9,300.8',\n",
              " '9,233.3',\n",
              " '9,285.1',\n",
              " '9,235.7',\n",
              " '9,429.9',\n",
              " '9,256.0',\n",
              " '9,339.0',\n",
              " '9,081.0',\n",
              " '9,134.4',\n",
              " '9,067.1',\n",
              " '9,085.1',\n",
              " '9,229.9',\n",
              " '9,135.4',\n",
              " '9,185.4',\n",
              " '9,124.0',\n",
              " '9,008.3',\n",
              " '9,160.0',\n",
              " '9,247.5',\n",
              " '9,302.0',\n",
              " '9,624.6',\n",
              " '9,683.7',\n",
              " '9,296.4',\n",
              " '9,358.8',\n",
              " '9,314.0',\n",
              " '9,388.1',\n",
              " '9,464.6',\n",
              " '9,523.5',\n",
              " '9,425.4',\n",
              " '9,345.3',\n",
              " '9,471.3',\n",
              " '9,466.6',\n",
              " '9,283.2',\n",
              " '9,878.8',\n",
              " '9,768.8',\n",
              " '9,777.9',\n",
              " '9,742.6',\n",
              " '9,669.6',\n",
              " '9,631.2',\n",
              " '9,794.4',\n",
              " '9,667.2',\n",
              " '9,527.6',\n",
              " '10,189.3',\n",
              " '9,454.8',\n",
              " '9,692.5',\n",
              " '9,424.8',\n",
              " '9,572.2',\n",
              " '9,199.1',\n",
              " '8,842.5',\n",
              " '8,898.2',\n",
              " '8,728.2',\n",
              " '9,177.0',\n",
              " '9,169.7',\n",
              " '9,059.0',\n",
              " '9,512.3',\n",
              " '9,773.3',\n",
              " '9,730.7',\n",
              " '9,677.7',\n",
              " '9,379.5',\n",
              " '9,318.0',\n",
              " '9,778.4',\n",
              " '9,298.7',\n",
              " '8,813.8',\n",
              " '8,579.8',\n",
              " '8,738.8',\n",
              " '9,554.6',\n",
              " '9,806.2',\n",
              " '9,979.8',\n",
              " '9,151.4',\n",
              " '9,001.0',\n",
              " '8,874.7',\n",
              " '8,885.5',\n",
              " '8,966.3',\n",
              " '8,821.6',\n",
              " '8,629.0',\n",
              " '8,770.9',\n",
              " '7,746.9',\n",
              " '7,766.0',\n",
              " '7,678.9',\n",
              " '7,540.4',\n",
              " '7,503.8',\n",
              " '7,488.5',\n",
              " '7,112.9',\n",
              " '6,842.5',\n",
              " '6,833.5',\n",
              " '7,122.9',\n",
              " '7,230.8',\n",
              " '7,035.8',\n",
              " '7,085.6',\n",
              " '6,629.1',\n",
              " '6,850.9',\n",
              " '6,841.3',\n",
              " '6,917.6',\n",
              " '6,867.8',\n",
              " '6,863.1',\n",
              " '7,289.0',\n",
              " '7,361.2',\n",
              " '7,185.2',\n",
              " '7,332.3',\n",
              " '6,772.7',\n",
              " '6,857.4',\n",
              " '6,735.9',\n",
              " '6,800.5',\n",
              " '6,638.5',\n",
              " '6,412.5',\n",
              " '6,391.0',\n",
              " '5,890.4',\n",
              " '6,233.7',\n",
              " '6,373.4',\n",
              " '6,725.1',\n",
              " '6,678.9',\n",
              " '6,744.6',\n",
              " '6,468.9',\n",
              " '5,822.1',\n",
              " '6,186.2',\n",
              " '6,205.3',\n",
              " '6,172.0',\n",
              " '5,361.4',\n",
              " '5,261.1',\n",
              " '5,030.0',\n",
              " '5,366.3',\n",
              " '5,182.7',\n",
              " '5,584.3',\n",
              " '4,826.0',\n",
              " '7,935.1',\n",
              " '7,891.2',\n",
              " '7,933.0',\n",
              " '8,034.1',\n",
              " '8,887.8',\n",
              " '9,134.8',\n",
              " '9,060.3',\n",
              " '8,757.9',\n",
              " '8,761.4',\n",
              " '8,904.8',\n",
              " '8,540.0',\n",
              " '8,543.7',\n",
              " '8,697.5',\n",
              " '8,818.6',\n",
              " '8,800.3',\n",
              " '9,317.2',\n",
              " '9,662.7',\n",
              " '9,942.7',\n",
              " '9,655.7',\n",
              " '9,684.5',\n",
              " '9,602.4',\n",
              " '9,609.4',\n",
              " '10,158.4',\n",
              " '9,701.4',\n",
              " '9,932.3',\n",
              " '9,907.7',\n",
              " '10,333.0',\n",
              " '10,235.1',\n",
              " '10,317.7',\n",
              " '10,229.5',\n",
              " '9,854.1',\n",
              " '10,151.5',\n",
              " '9,895.5',\n",
              " '9,818.6',\n",
              " '9,772.0',\n",
              " '9,611.8',\n",
              " '9,193.9',\n",
              " '9,296.6',\n",
              " '9,334.9',\n",
              " '9,381.6',\n",
              " '9,349.1',\n",
              " '9,507.3',\n",
              " '9,298.9',\n",
              " '9,377.3',\n",
              " '8,866.6',\n",
              " '8,607.8',\n",
              " '8,341.6',\n",
              " '8,439.9',\n",
              " '8,405.1',\n",
              " '8,678.5',\n",
              " '8,732.6',\n",
              " '8,641.9',\n",
              " '8,706.2',\n",
              " '8,916.3',\n",
              " '8,913.1',\n",
              " '8,726.9',\n",
              " '8,818.3',\n",
              " '8,829.2',\n",
              " '8,111.4',\n",
              " '8,187.6',\n",
              " '8,024.1',\n",
              " '8,187.1',\n",
              " '7,842.4',\n",
              " '8,059.6',\n",
              " '8,155.7',\n",
              " '7,759.1',\n",
              " '7,372.5',\n",
              " '7,376.8',\n",
              " '7,343.1',\n",
              " '6,967.0',\n",
              " '7,199.8',\n",
              " '7,196.4',\n",
              " '7,261.8',\n",
              " '7,397.5',\n",
              " '7,321.5',\n",
              " '7,261.7',\n",
              " '7,210.9',\n",
              " '7,224.8',\n",
              " '7,268.3',\n",
              " '7,322.8',\n",
              " '7,495.8',\n",
              " '7,156.2',\n",
              " '7,165.5',\n",
              " '7,276.0',\n",
              " '6,613.3',\n",
              " '6,903.5',\n",
              " '7,128.5',\n",
              " '7,080.8',\n",
              " '7,255.2',\n",
              " '7,208.0',\n",
              " '7,235.7',\n",
              " '7,355.8',\n",
              " '7,524.4',\n",
              " '7,510.9',\n",
              " '7,530.8',\n",
              " '7,399.2',\n",
              " '7,204.4',\n",
              " '7,291.8',\n",
              " '7,298.2',\n",
              " '7,396.4',\n",
              " '7,546.6',\n",
              " '7,742.7',\n",
              " '7,426.7',\n",
              " '7,510.6',\n",
              " '7,162.8',\n",
              " '7,115.6',\n",
              " '6,924.7',\n",
              " '7,324.1',\n",
              " '7,272.5',\n",
              " '7,627.9',\n",
              " '8,099.3',\n",
              " '8,145.7',\n",
              " '8,208.4',\n",
              " '8,509.8',\n",
              " '8,497.3',\n",
              " '8,476.3',\n",
              " '8,661.2',\n",
              " '8,783.1',\n",
              " '8,812.6',\n",
              " '8,736.9',\n",
              " '9,036.8',\n",
              " '8,804.5',\n",
              " '8,778.2',\n",
              " '9,223.5',\n",
              " '9,338.9',\n",
              " '9,310.8',\n",
              " '9,396.4',\n",
              " '9,198.3',\n",
              " '9,300.6',\n",
              " '9,230.1',\n",
              " '9,152.6',\n",
              " '9,157.9',\n",
              " '9,411.3',\n",
              " '9,207.2',\n",
              " '9,529.6',\n",
              " '9,230.6',\n",
              " '8,658.3',\n",
              " '7,422.7',\n",
              " '7,477.0',\n",
              " '8,031.4',\n",
              " '8,208.2',\n",
              " '8,223.4',\n",
              " '7,957.3',\n",
              " '7,948.5',\n",
              " '8,073.3',\n",
              " '8,000.4',\n",
              " '8,167.2',\n",
              " '8,353.3',\n",
              " '8,281.5',\n",
              " '8,304.4',\n",
              " '8,267.8',\n",
              " '8,562.3',\n",
              " '8,566.7',\n",
              " '8,182.9',\n",
              " '8,198.6',\n",
              " '7,881.9',\n",
              " '8,127.3',\n",
              " '8,148.1',\n",
              " '8,226.9',\n",
              " '8,364.1',\n",
              " '8,302.7',\n",
              " '8,284.3',\n",
              " '8,049.1',\n",
              " '8,208.5',\n",
              " '8,184.9',\n",
              " '8,063.8',\n",
              " '8,432.4',\n",
              " '8,513.9',\n",
              " '9,702.2',\n",
              " '10,031.6',\n",
              " '9,993.0',\n",
              " '10,172.7',\n",
              " '10,250.5',\n",
              " '10,164.7',\n",
              " '10,195.7',\n",
              " '10,255.5',\n",
              " '10,311.5',\n",
              " '10,337.3',\n",
              " '10,342.1',\n",
              " '10,415.1',\n",
              " '10,162.5',\n",
              " '10,105.4',\n",
              " '10,309.0',\n",
              " '10,402.8',\n",
              " '10,461.1',\n",
              " '10,309.3',\n",
              " '10,566.9',\n",
              " '10,568.2',\n",
              " '10,612.3',\n",
              " '10,348.8',\n",
              " '9,729.3',\n",
              " '9,594.4',\n",
              " '9,585.4',\n",
              " '9,491.0',\n",
              " '9,729.4',\n",
              " '10,184.8',\n",
              " '10,371.8',\n",
              " '10,136.3',\n",
              " '10,131.0',\n",
              " '10,388.7',\n",
              " '10,105.0',\n",
              " '10,141.5',\n",
              " '10,752.6',\n",
              " '10,910.7',\n",
              " '10,312.7',\n",
              " '10,218.1',\n",
              " '10,335.6',\n",
              " '10,303.4',\n",
              " '10,049.4',\n",
              " '10,892.9',\n",
              " '11,394.2',\n",
              " '11,517.2',\n",
              " '11,314.5',\n",
              " '12,089.8',\n",
              " '12,191.6',\n",
              " '12,013.9',\n",
              " '11,480.9',\n",
              " '11,816.8',\n",
              " '10,934.6',\n",
              " '10,815.7',\n",
              " '10,520.1',\n",
              " '10,380.0',\n",
              " '10,082.0',\n",
              " '9,580.7',\n",
              " '9,580.9',\n",
              " '9,727.8',\n",
              " '9,492.1',\n",
              " '9,831.0',\n",
              " '9,945.3',\n",
              " '9,804.3',\n",
              " '9,888.7',\n",
              " '10,412.5',\n",
              " '10,714.4',\n",
              " '10,826.7',\n",
              " '10,571.5',\n",
              " '10,651.4',\n",
              " '9,723.2',\n",
              " '10,845.9',\n",
              " '10,200.1',\n",
              " '11,364.9',\n",
              " '11,762.1',\n",
              " '11,342.3',\n",
              " '12,110.6',\n",
              " '12,541.5',\n",
              " '12,252.6',\n",
              " '11,415.9',\n",
              " '11,268.0',\n",
              " '10,970.2',\n",
              " '11,163.1',\n",
              " '11,900.8',\n",
              " '10,835.9',\n",
              " '10,616.6',\n",
              " '10,818.6',\n",
              " '11,906.5',\n",
              " '12,409.1',\n",
              " '11,287.8',\n",
              " '13,063.8',\n",
              " '11,809.9',\n",
              " '11,046.4',\n",
              " '10,897.1',\n",
              " '10,721.7',\n",
              " '10,179.3',\n",
              " '9,517.0',\n",
              " '9,255.4',\n",
              " '9,080.6',\n",
              " '9,318.8',\n",
              " '8,962.5',\n",
              " '8,812.5',\n",
              " '8,656.1',\n",
              " '8,219.0',\n",
              " '8,133.1',\n",
              " '7,888.0',\n",
              " '7,987.8',\n",
              " '7,635.0',\n",
              " '7,901.4',\n",
              " '7,985.2',\n",
              " '7,784.9',\n",
              " '7,779.1',\n",
              " '7,685.5',\n",
              " '8,124.8',\n",
              " '8,728.6',\n",
              " '8,545.7',\n",
              " '8,558.3',\n",
              " '8,271.9',\n",
              " '8,647.8',\n",
              " '8,716.3',\n",
              " '8,760.1',\n",
              " '8,630.2',\n",
              " '8,027.4',\n",
              " '7,970.1',\n",
              " '7,852.1',\n",
              " '7,635.7',\n",
              " '7,930.3',\n",
              " '7,965.3',\n",
              " '8,157.2',\n",
              " '7,262.6',\n",
              " '7,359.5',\n",
              " '7,871.8',\n",
              " '8,164.6',\n",
              " '7,994.6',\n",
              " '7,806.0',\n",
              " '6,984.8',\n",
              " '7,190.3',\n",
              " '6,386.0',\n",
              " '6,191.5',\n",
              " '5,990.3',\n",
              " '5,849.5',\n",
              " '5,745.1',\n",
              " '5,774.9',\n",
              " '5,830.9',\n",
              " '5,766.8',\n",
              " '5,493.8',\n",
              " '5,384.2',\n",
              " '5,320.8',\n",
              " '5,235.0',\n",
              " '5,302.3',\n",
              " '5,265.9',\n",
              " '5,298.3',\n",
              " '5,209.1',\n",
              " '5,415.6',\n",
              " '5,511.6',\n",
              " '5,346.7',\n",
              " '5,243.5',\n",
              " '5,290.2',\n",
              " '5,241.0',\n",
              " '5,264.7',\n",
              " '5,208.3',\n",
              " '5,180.9',\n",
              " '5,032.3',\n",
              " '5,134.8',\n",
              " '5,051.8',\n",
              " '5,054.2',\n",
              " '5,022.6',\n",
              " '5,307.8',\n",
              " '5,158.4',\n",
              " '5,245.2',\n",
              " '5,173.6',\n",
              " '5,046.2',\n",
              " '5,010.2',\n",
              " '4,902.4',\n",
              " '4,968.7',\n",
              " '4,859.3',\n",
              " '4,145.1',\n",
              " '4,102.3',\n",
              " '4,111.8',\n",
              " '4,102.2',\n",
              " '4,025.6',\n",
              " '4,041.7',\n",
              " '3,942.8',\n",
              " '3,937.0',\n",
              " '3,994.7',\n",
              " '4,002.5',\n",
              " '3,990.4',\n",
              " '3,982.2',\n",
              " '4,041.2',\n",
              " '4,017.0',\n",
              " '3,990.2',\n",
              " '3,981.5',\n",
              " '4,006.4',\n",
              " '3,924.3',\n",
              " '3,879.0',\n",
              " '3,865.1',\n",
              " '3,886.0',\n",
              " '3,870.3',\n",
              " '3,915.2',\n",
              " '3,944.3',\n",
              " '3,865.9',\n",
              " '3,875.1',\n",
              " '3,863.0',\n",
              " '3,857.2',\n",
              " '3,715.9',\n",
              " '3,809.5',\n",
              " '3,823.1',\n",
              " '3,821.9',\n",
              " '3,816.6',\n",
              " '3,814.6',\n",
              " '3,810.3',\n",
              " '3,833.7',\n",
              " '3,755.2',\n",
              " '4,120.4',\n",
              " '3,965.2',\n",
              " '3,936.6',\n",
              " '3,972.4',\n",
              " '3,914.3',\n",
              " '3,896.0',\n",
              " '3,664.2',\n",
              " '3,616.8',\n",
              " '3,604.7',\n",
              " '3,592.6',\n",
              " '3,611.5',\n",
              " '3,632.0',\n",
              " '3,631.8',\n",
              " '3,679.0',\n",
              " '3,661.4',\n",
              " '3,661.7',\n",
              " '3,397.7',\n",
              " '3,404.3',\n",
              " '3,468.4',\n",
              " '3,462.8',\n",
              " '3,459.1',\n",
              " '3,502.5',\n",
              " '3,467.9',\n",
              " '3,437.2',\n",
              " '3,460.0',\n",
              " '3,414.8',\n",
              " '3,442.8',\n",
              " '3,555.6',\n",
              " '3,570.9',\n",
              " '3,572.0',\n",
              " '3,574.3',\n",
              " '3,561.5',\n",
              " '3,580.1',\n",
              " '3,536.7',\n",
              " '3,542.3',\n",
              " '3,677.8',\n",
              " '3,605.6',\n",
              " '3,626.4',\n",
              " '3,588.0',\n",
              " '3,571.3',\n",
              " '3,638.1',\n",
              " '3,490.2',\n",
              " '3,597.2',\n",
              " '3,616.5',\n",
              " '3,603.7',\n",
              " '3,978.0',\n",
              " '3,971.0',\n",
              " '3,985.9',\n",
              " '4,004.1',\n",
              " '3,785.4',\n",
              " '3,802.7',\n",
              " '3,780.1',\n",
              " '3,873.8',\n",
              " '3,809.4',\n",
              " '3,709.4',\n",
              " '3,815.0',\n",
              " '3,706.8',\n",
              " '3,861.6',\n",
              " '3,586.9',\n",
              " '3,793.7',\n",
              " '3,762.5',\n",
              " '4,026.1',\n",
              " '3,944.4',\n",
              " '3,964.4',\n",
              " '3,850.9',\n",
              " '4,076.0',\n",
              " '3,687.1',\n",
              " '3,668.0',\n",
              " '3,526.1',\n",
              " '3,247.9',\n",
              " '3,228.7',\n",
              " '3,247.8',\n",
              " '3,315.3',\n",
              " '3,466.1',\n",
              " '3,407.7',\n",
              " '3,460.5',\n",
              " '3,567.5',\n",
              " '3,430.4',\n",
              " '3,422.2',\n",
              " '3,508.6',\n",
              " '3,771.6',\n",
              " '3,958.5',\n",
              " '3,897.8',\n",
              " '4,160.4',\n",
              " '4,196.2',\n",
              " '4,039.7',\n",
              " '4,296.5',\n",
              " '4,265.4',\n",
              " '3,866.5',\n",
              " '3,837.0',\n",
              " ...]"
            ]
          },
          "metadata": {},
          "execution_count": 150
        }
      ]
    },
    {
      "cell_type": "markdown",
      "metadata": {
        "id": "htQSR6DNJ3Jd"
      },
      "source": [
        "Agrupacion de Precios de 0.1"
      ]
    },
    {
      "cell_type": "code",
      "metadata": {
        "colab": {
          "base_uri": "https://localhost:8080/",
          "height": 419
        },
        "id": "faEUfu1JKEgH",
        "outputId": "ad0d37ac-2f7a-4a3e-cbe3-b665402f8121"
      },
      "source": [
        "dfPrecio = df[df['Precio'] == '0.1']\n",
        "dfPrecio"
      ],
      "execution_count": 151,
      "outputs": [
        {
          "output_type": "execute_result",
          "data": {
            "text/html": [
              "<div>\n",
              "<style scoped>\n",
              "    .dataframe tbody tr th:only-of-type {\n",
              "        vertical-align: middle;\n",
              "    }\n",
              "\n",
              "    .dataframe tbody tr th {\n",
              "        vertical-align: top;\n",
              "    }\n",
              "\n",
              "    .dataframe thead th {\n",
              "        text-align: right;\n",
              "    }\n",
              "</style>\n",
              "<table border=\"1\" class=\"dataframe\">\n",
              "  <thead>\n",
              "    <tr style=\"text-align: right;\">\n",
              "      <th></th>\n",
              "      <th>Fecha</th>\n",
              "      <th>Precio</th>\n",
              "      <th>Mañana</th>\n",
              "      <th>Alto</th>\n",
              "      <th>Bajo</th>\n",
              "      <th>Volumen</th>\n",
              "      <th>CambioP</th>\n",
              "    </tr>\n",
              "  </thead>\n",
              "  <tbody>\n",
              "    <tr>\n",
              "      <th>3956</th>\n",
              "      <td>Oct 25, 2010</td>\n",
              "      <td>0.1</td>\n",
              "      <td>0.1</td>\n",
              "      <td>0.2</td>\n",
              "      <td>0.1</td>\n",
              "      <td>30.30K</td>\n",
              "      <td>0.00%</td>\n",
              "    </tr>\n",
              "    <tr>\n",
              "      <th>3957</th>\n",
              "      <td>Oct 24, 2010</td>\n",
              "      <td>0.1</td>\n",
              "      <td>0.1</td>\n",
              "      <td>0.2</td>\n",
              "      <td>0.1</td>\n",
              "      <td>13.80K</td>\n",
              "      <td>0.00%</td>\n",
              "    </tr>\n",
              "    <tr>\n",
              "      <th>3958</th>\n",
              "      <td>Oct 23, 2010</td>\n",
              "      <td>0.1</td>\n",
              "      <td>0.1</td>\n",
              "      <td>0.1</td>\n",
              "      <td>0.1</td>\n",
              "      <td>4.42K</td>\n",
              "      <td>0.00%</td>\n",
              "    </tr>\n",
              "    <tr>\n",
              "      <th>3959</th>\n",
              "      <td>Oct 22, 2010</td>\n",
              "      <td>0.1</td>\n",
              "      <td>0.1</td>\n",
              "      <td>0.1</td>\n",
              "      <td>0.1</td>\n",
              "      <td>34.60K</td>\n",
              "      <td>0.00%</td>\n",
              "    </tr>\n",
              "    <tr>\n",
              "      <th>3960</th>\n",
              "      <td>Oct 21, 2010</td>\n",
              "      <td>0.1</td>\n",
              "      <td>0.1</td>\n",
              "      <td>0.1</td>\n",
              "      <td>0.1</td>\n",
              "      <td>44.87K</td>\n",
              "      <td>0.00%</td>\n",
              "    </tr>\n",
              "    <tr>\n",
              "      <th>...</th>\n",
              "      <td>...</td>\n",
              "      <td>...</td>\n",
              "      <td>...</td>\n",
              "      <td>...</td>\n",
              "      <td>...</td>\n",
              "      <td>...</td>\n",
              "      <td>...</td>\n",
              "    </tr>\n",
              "    <tr>\n",
              "      <th>4051</th>\n",
              "      <td>Jul 22, 2010</td>\n",
              "      <td>0.1</td>\n",
              "      <td>0.1</td>\n",
              "      <td>0.1</td>\n",
              "      <td>0.1</td>\n",
              "      <td>2.16K</td>\n",
              "      <td>0.00%</td>\n",
              "    </tr>\n",
              "    <tr>\n",
              "      <th>4052</th>\n",
              "      <td>Jul 21, 2010</td>\n",
              "      <td>0.1</td>\n",
              "      <td>0.1</td>\n",
              "      <td>0.1</td>\n",
              "      <td>0.1</td>\n",
              "      <td>0.58K</td>\n",
              "      <td>0.00%</td>\n",
              "    </tr>\n",
              "    <tr>\n",
              "      <th>4053</th>\n",
              "      <td>Jul 20, 2010</td>\n",
              "      <td>0.1</td>\n",
              "      <td>0.1</td>\n",
              "      <td>0.1</td>\n",
              "      <td>0.1</td>\n",
              "      <td>0.26K</td>\n",
              "      <td>0.00%</td>\n",
              "    </tr>\n",
              "    <tr>\n",
              "      <th>4054</th>\n",
              "      <td>Jul 19, 2010</td>\n",
              "      <td>0.1</td>\n",
              "      <td>0.1</td>\n",
              "      <td>0.1</td>\n",
              "      <td>0.1</td>\n",
              "      <td>0.57K</td>\n",
              "      <td>0.00%</td>\n",
              "    </tr>\n",
              "    <tr>\n",
              "      <th>4055</th>\n",
              "      <td>Jul 18, 2010</td>\n",
              "      <td>0.1</td>\n",
              "      <td>0.0</td>\n",
              "      <td>0.1</td>\n",
              "      <td>0.1</td>\n",
              "      <td>0.08K</td>\n",
              "      <td>0.00%</td>\n",
              "    </tr>\n",
              "  </tbody>\n",
              "</table>\n",
              "<p>100 rows × 7 columns</p>\n",
              "</div>"
            ],
            "text/plain": [
              "             Fecha Precio Mañana Alto Bajo Volumen CambioP\n",
              "3956  Oct 25, 2010    0.1    0.1  0.2  0.1  30.30K   0.00%\n",
              "3957  Oct 24, 2010    0.1    0.1  0.2  0.1  13.80K   0.00%\n",
              "3958  Oct 23, 2010    0.1    0.1  0.1  0.1   4.42K   0.00%\n",
              "3959  Oct 22, 2010    0.1    0.1  0.1  0.1  34.60K   0.00%\n",
              "3960  Oct 21, 2010    0.1    0.1  0.1  0.1  44.87K   0.00%\n",
              "...            ...    ...    ...  ...  ...     ...     ...\n",
              "4051  Jul 22, 2010    0.1    0.1  0.1  0.1   2.16K   0.00%\n",
              "4052  Jul 21, 2010    0.1    0.1  0.1  0.1   0.58K   0.00%\n",
              "4053  Jul 20, 2010    0.1    0.1  0.1  0.1   0.26K   0.00%\n",
              "4054  Jul 19, 2010    0.1    0.1  0.1  0.1   0.57K   0.00%\n",
              "4055  Jul 18, 2010    0.1    0.0  0.1  0.1   0.08K   0.00%\n",
              "\n",
              "[100 rows x 7 columns]"
            ]
          },
          "metadata": {},
          "execution_count": 151
        }
      ]
    },
    {
      "cell_type": "markdown",
      "metadata": {
        "id": "_XQ6M0zVKOM0"
      },
      "source": [
        "Agrupacion de Precios de 1 en la Mañana"
      ]
    },
    {
      "cell_type": "code",
      "metadata": {
        "colab": {
          "base_uri": "https://localhost:8080/",
          "height": 359
        },
        "id": "QwnCuLdlKTxG",
        "outputId": "bef73c87-8861-42b4-8c80-db487cf313cc"
      },
      "source": [
        "dfMañana = df[df['Mañana'] == '1.0']\n",
        "dfMañana"
      ],
      "execution_count": 152,
      "outputs": [
        {
          "output_type": "execute_result",
          "data": {
            "text/html": [
              "<div>\n",
              "<style scoped>\n",
              "    .dataframe tbody tr th:only-of-type {\n",
              "        vertical-align: middle;\n",
              "    }\n",
              "\n",
              "    .dataframe tbody tr th {\n",
              "        vertical-align: top;\n",
              "    }\n",
              "\n",
              "    .dataframe thead th {\n",
              "        text-align: right;\n",
              "    }\n",
              "</style>\n",
              "<table border=\"1\" class=\"dataframe\">\n",
              "  <thead>\n",
              "    <tr style=\"text-align: right;\">\n",
              "      <th></th>\n",
              "      <th>Fecha</th>\n",
              "      <th>Precio</th>\n",
              "      <th>Mañana</th>\n",
              "      <th>Alto</th>\n",
              "      <th>Bajo</th>\n",
              "      <th>Volumen</th>\n",
              "      <th>CambioP</th>\n",
              "    </tr>\n",
              "  </thead>\n",
              "  <tbody>\n",
              "    <tr>\n",
              "      <th>3782</th>\n",
              "      <td>Apr 17, 2011</td>\n",
              "      <td>1.1</td>\n",
              "      <td>1.0</td>\n",
              "      <td>1.1</td>\n",
              "      <td>1.0</td>\n",
              "      <td>24.23K</td>\n",
              "      <td>5.71%</td>\n",
              "    </tr>\n",
              "    <tr>\n",
              "      <th>3783</th>\n",
              "      <td>Apr 16, 2011</td>\n",
              "      <td>1.0</td>\n",
              "      <td>1.0</td>\n",
              "      <td>1.1</td>\n",
              "      <td>1.0</td>\n",
              "      <td>28.87K</td>\n",
              "      <td>6.07%</td>\n",
              "    </tr>\n",
              "    <tr>\n",
              "      <th>3784</th>\n",
              "      <td>Apr 15, 2011</td>\n",
              "      <td>1.0</td>\n",
              "      <td>1.0</td>\n",
              "      <td>1.1</td>\n",
              "      <td>0.9</td>\n",
              "      <td>50.31K</td>\n",
              "      <td>0.00%</td>\n",
              "    </tr>\n",
              "    <tr>\n",
              "      <th>3831</th>\n",
              "      <td>Feb 27, 2011</td>\n",
              "      <td>0.9</td>\n",
              "      <td>1.0</td>\n",
              "      <td>1.0</td>\n",
              "      <td>0.9</td>\n",
              "      <td>23.27K</td>\n",
              "      <td>-7.10%</td>\n",
              "    </tr>\n",
              "    <tr>\n",
              "      <th>3833</th>\n",
              "      <td>Feb 25, 2011</td>\n",
              "      <td>0.9</td>\n",
              "      <td>1.0</td>\n",
              "      <td>1.0</td>\n",
              "      <td>0.9</td>\n",
              "      <td>4.46K</td>\n",
              "      <td>-8.65%</td>\n",
              "    </tr>\n",
              "    <tr>\n",
              "      <th>3840</th>\n",
              "      <td>Feb 18, 2011</td>\n",
              "      <td>0.9</td>\n",
              "      <td>1.0</td>\n",
              "      <td>1.0</td>\n",
              "      <td>0.8</td>\n",
              "      <td>36.95K</td>\n",
              "      <td>-13.57%</td>\n",
              "    </tr>\n",
              "    <tr>\n",
              "      <th>3841</th>\n",
              "      <td>Feb 17, 2011</td>\n",
              "      <td>1.0</td>\n",
              "      <td>1.0</td>\n",
              "      <td>1.0</td>\n",
              "      <td>1.0</td>\n",
              "      <td>4.01K</td>\n",
              "      <td>0.00%</td>\n",
              "    </tr>\n",
              "    <tr>\n",
              "      <th>3842</th>\n",
              "      <td>Feb 16, 2011</td>\n",
              "      <td>1.0</td>\n",
              "      <td>1.0</td>\n",
              "      <td>1.0</td>\n",
              "      <td>1.0</td>\n",
              "      <td>7.19K</td>\n",
              "      <td>0.00%</td>\n",
              "    </tr>\n",
              "    <tr>\n",
              "      <th>3844</th>\n",
              "      <td>Feb 14, 2011</td>\n",
              "      <td>1.1</td>\n",
              "      <td>1.0</td>\n",
              "      <td>1.1</td>\n",
              "      <td>1.0</td>\n",
              "      <td>7.10K</td>\n",
              "      <td>0.00%</td>\n",
              "    </tr>\n",
              "    <tr>\n",
              "      <th>3847</th>\n",
              "      <td>Feb 11, 2011</td>\n",
              "      <td>1.1</td>\n",
              "      <td>1.0</td>\n",
              "      <td>1.1</td>\n",
              "      <td>0.9</td>\n",
              "      <td>13.30K</td>\n",
              "      <td>9.15%</td>\n",
              "    </tr>\n",
              "  </tbody>\n",
              "</table>\n",
              "</div>"
            ],
            "text/plain": [
              "             Fecha Precio Mañana Alto Bajo Volumen  CambioP\n",
              "3782  Apr 17, 2011    1.1    1.0  1.1  1.0  24.23K    5.71%\n",
              "3783  Apr 16, 2011    1.0    1.0  1.1  1.0  28.87K    6.07%\n",
              "3784  Apr 15, 2011    1.0    1.0  1.1  0.9  50.31K    0.00%\n",
              "3831  Feb 27, 2011    0.9    1.0  1.0  0.9  23.27K   -7.10%\n",
              "3833  Feb 25, 2011    0.9    1.0  1.0  0.9   4.46K   -8.65%\n",
              "3840  Feb 18, 2011    0.9    1.0  1.0  0.8  36.95K  -13.57%\n",
              "3841  Feb 17, 2011    1.0    1.0  1.0  1.0   4.01K    0.00%\n",
              "3842  Feb 16, 2011    1.0    1.0  1.0  1.0   7.19K    0.00%\n",
              "3844  Feb 14, 2011    1.1    1.0  1.1  1.0   7.10K    0.00%\n",
              "3847  Feb 11, 2011    1.1    1.0  1.1  0.9  13.30K    9.15%"
            ]
          },
          "metadata": {},
          "execution_count": 152
        }
      ]
    },
    {
      "cell_type": "markdown",
      "metadata": {
        "id": "4Komk9y0KeAT"
      },
      "source": [
        "Generacion de Archivos con los Datos Agrupados"
      ]
    },
    {
      "cell_type": "code",
      "metadata": {
        "id": "LIRH-6B2KdlQ"
      },
      "source": [
        "dfPrecio.to_csv('dfPrecio.csv', index=False)\n",
        "dfMañana.to_csv('dfMañana.csv', index=False)"
      ],
      "execution_count": 153,
      "outputs": []
    },
    {
      "cell_type": "markdown",
      "metadata": {
        "id": "uQ3aRBXXrDUv"
      },
      "source": [
        "# **Base de datos de Repuesto**"
      ]
    },
    {
      "cell_type": "markdown",
      "metadata": {
        "id": "Ro0mWl9-rtAf"
      },
      "source": [
        "# 1.- Base de Datos: Juegos Olimpicos Tokyo 2021"
      ]
    },
    {
      "cell_type": "markdown",
      "metadata": {
        "id": "W_h2AJJQsoY7"
      },
      "source": [
        ">A) 2021 Olympics in Tokyo\n",
        "\n",
        ">B)https://www.kaggle.com/arjunprasadsarkhel/2021-olympics-in-tokyo"
      ]
    },
    {
      "cell_type": "markdown",
      "metadata": {
        "id": "u2hj05eis01e"
      },
      "source": [
        "# 2.- Introducción General"
      ]
    },
    {
      "cell_type": "markdown",
      "metadata": {
        "id": "4cBt_8j3s-HW"
      },
      "source": [
        "¿Qué son los Juegos Olímpicos?\n",
        "\n",
        ">La Olimpiadas son el mayor evento deportivo internacional multidisciplinario en el que participan atletas de diversas partes del mundo.\n",
        "\n",
        ">Su origen viene de la inspiración de los Juegos Olímpicos que se realizaban en Grecia al rededor del siglo VIII a.C.\n",
        ">Las Olimpiadas modernas se realizan cada cuatro años y sus inicios fueron en Atenas, capital de Grecia, a partir del 6 de abril de 1896."
      ]
    },
    {
      "cell_type": "markdown",
      "metadata": {
        "id": "yqFQDWR2yiC4"
      },
      "source": [
        "# 3.- Descripción de los datos"
      ]
    },
    {
      "cell_type": "markdown",
      "metadata": {
        "id": "hf3nFeowyn_b"
      },
      "source": [
        ">A) En la base de datos podemos apreciar las cantidades de medallas ganadas por equipo o nación, ademas del ranking en el que se encuentrar cada uno de estos.\n",
        "\n",
        ">B)Se trata de una base de datos con siete columnas, las cuales son las siguientes:\n",
        "1.   **Rank** <- Es el rango en la historia.\n",
        "2.   **Team/NOC** <- Muestra el equipo olimpico o la nacionalidad.\n",
        "3.   **Gold** <- Número de medallas de oro.\n",
        "4.   **Silver** <- Número de medallas de plata.\n",
        "5.   **Bronze** <- Número de medallas de bronce.\n",
        "6.   **Total** <- Número de medallas en total.\n",
        "7.   **Rank by Total** <- Se refiere al rango actual.\n"
      ]
    },
    {
      "cell_type": "markdown",
      "metadata": {
        "id": "ZJIq61bi21Ui"
      },
      "source": [
        "# 4.- Justificación del uso de datos"
      ]
    },
    {
      "cell_type": "markdown",
      "metadata": {
        "id": "8yEf4RTD2-Xh"
      },
      "source": [
        ">A)Las olimpiadas son un evento mundial que mueve a mucha gente, son datos muy interesantes en cuestión de que pueden cambiar radicalmente cada que se celebra este evento, o vemos datos que se siguen repitiendo.\n",
        "\n",
        ">B) Con datos así se pueden hacer muchos tipos de análisis, al ser un evento deportivo, cultural, económico, puede incluso llegar a lo político."
      ]
    },
    {
      "cell_type": "markdown",
      "metadata": {
        "id": "omAf4EvS7yW5"
      },
      "source": [
        "# 5.- Objetivo Final"
      ]
    },
    {
      "cell_type": "markdown",
      "metadata": {
        "id": "SEiZ-5rc72A1"
      },
      "source": [
        ">A) El objetivo principal de es ver si los países se mantienen dentro de su rango en la historia sin haber muchas variaciones."
      ]
    },
    {
      "cell_type": "markdown",
      "metadata": {
        "id": "ebBqwEP99AWY"
      },
      "source": [
        "# 6.- Preguntas de Interés "
      ]
    },
    {
      "cell_type": "markdown",
      "metadata": {
        "id": "3UI05vqv9KTW"
      },
      "source": [
        "\n",
        "\n",
        "1.   ¿Los países de primer mundo son los que lideran los rangos en las Olimpiadas?\n",
        "2.   ¿Existen regiones especificas del mundo donde los deportistas tengan alguna ventaja en alguna competencia? \n",
        "\n"
      ]
    },
    {
      "cell_type": "markdown",
      "metadata": {
        "id": "zOywrE2uKzS-"
      },
      "source": [
        "# 7.- Parte de la Programación "
      ]
    },
    {
      "cell_type": "code",
      "metadata": {
        "id": "PCYsR4jGLjJD"
      },
      "source": [
        "import pandas as pd\n",
        "import numpy as np\n",
        "import json"
      ],
      "execution_count": 217,
      "outputs": []
    },
    {
      "cell_type": "code",
      "metadata": {
        "id": "p7fVnweGLkTc"
      },
      "source": [
        "bd = pd.read_excel(\"/content/sample_data/Medals.xlsx\")"
      ],
      "execution_count": 218,
      "outputs": []
    },
    {
      "cell_type": "markdown",
      "metadata": {
        "id": "ss1URCKHL5nH"
      },
      "source": [
        "**Visualizacion de Datos**"
      ]
    },
    {
      "cell_type": "code",
      "metadata": {
        "colab": {
          "base_uri": "https://localhost:8080/"
        },
        "id": "Wj42rrUfL-pG",
        "outputId": "fa83c5c5-a45e-406e-b7a9-c787d7c402f3"
      },
      "source": [
        "bd.shape"
      ],
      "execution_count": 219,
      "outputs": [
        {
          "output_type": "execute_result",
          "data": {
            "text/plain": [
              "(93, 7)"
            ]
          },
          "metadata": {},
          "execution_count": 219
        }
      ]
    },
    {
      "cell_type": "markdown",
      "metadata": {
        "id": "ymok67H6MC1u"
      },
      "source": [
        "Muestra columnas"
      ]
    },
    {
      "cell_type": "code",
      "metadata": {
        "colab": {
          "base_uri": "https://localhost:8080/",
          "height": 204
        },
        "id": "N9AnZFMiMJqz",
        "outputId": "20385a06-9b93-4b8d-fe43-cb7c6926ca31"
      },
      "source": [
        "bd.head()"
      ],
      "execution_count": 220,
      "outputs": [
        {
          "output_type": "execute_result",
          "data": {
            "text/html": [
              "<div>\n",
              "<style scoped>\n",
              "    .dataframe tbody tr th:only-of-type {\n",
              "        vertical-align: middle;\n",
              "    }\n",
              "\n",
              "    .dataframe tbody tr th {\n",
              "        vertical-align: top;\n",
              "    }\n",
              "\n",
              "    .dataframe thead th {\n",
              "        text-align: right;\n",
              "    }\n",
              "</style>\n",
              "<table border=\"1\" class=\"dataframe\">\n",
              "  <thead>\n",
              "    <tr style=\"text-align: right;\">\n",
              "      <th></th>\n",
              "      <th>Rank</th>\n",
              "      <th>Team/NOC</th>\n",
              "      <th>Gold</th>\n",
              "      <th>Silver</th>\n",
              "      <th>Bronze</th>\n",
              "      <th>Total</th>\n",
              "      <th>Rank by Total</th>\n",
              "    </tr>\n",
              "  </thead>\n",
              "  <tbody>\n",
              "    <tr>\n",
              "      <th>0</th>\n",
              "      <td>1</td>\n",
              "      <td>United States of America</td>\n",
              "      <td>39</td>\n",
              "      <td>41</td>\n",
              "      <td>33</td>\n",
              "      <td>113</td>\n",
              "      <td>1</td>\n",
              "    </tr>\n",
              "    <tr>\n",
              "      <th>1</th>\n",
              "      <td>2</td>\n",
              "      <td>People's Republic of China</td>\n",
              "      <td>38</td>\n",
              "      <td>32</td>\n",
              "      <td>18</td>\n",
              "      <td>88</td>\n",
              "      <td>2</td>\n",
              "    </tr>\n",
              "    <tr>\n",
              "      <th>2</th>\n",
              "      <td>3</td>\n",
              "      <td>Japan</td>\n",
              "      <td>27</td>\n",
              "      <td>14</td>\n",
              "      <td>17</td>\n",
              "      <td>58</td>\n",
              "      <td>5</td>\n",
              "    </tr>\n",
              "    <tr>\n",
              "      <th>3</th>\n",
              "      <td>4</td>\n",
              "      <td>Great Britain</td>\n",
              "      <td>22</td>\n",
              "      <td>21</td>\n",
              "      <td>22</td>\n",
              "      <td>65</td>\n",
              "      <td>4</td>\n",
              "    </tr>\n",
              "    <tr>\n",
              "      <th>4</th>\n",
              "      <td>5</td>\n",
              "      <td>ROC</td>\n",
              "      <td>20</td>\n",
              "      <td>28</td>\n",
              "      <td>23</td>\n",
              "      <td>71</td>\n",
              "      <td>3</td>\n",
              "    </tr>\n",
              "  </tbody>\n",
              "</table>\n",
              "</div>"
            ],
            "text/plain": [
              "   Rank                    Team/NOC  Gold  Silver  Bronze  Total  Rank by Total\n",
              "0     1    United States of America    39      41      33    113              1\n",
              "1     2  People's Republic of China    38      32      18     88              2\n",
              "2     3                       Japan    27      14      17     58              5\n",
              "3     4               Great Britain    22      21      22     65              4\n",
              "4     5                         ROC    20      28      23     71              3"
            ]
          },
          "metadata": {},
          "execution_count": 220
        }
      ]
    },
    {
      "cell_type": "code",
      "metadata": {
        "colab": {
          "base_uri": "https://localhost:8080/",
          "height": 204
        },
        "id": "uEUD-dk0ML9y",
        "outputId": "b5186976-e984-493c-c54a-f89ee5e40550"
      },
      "source": [
        "bd.tail()"
      ],
      "execution_count": 221,
      "outputs": [
        {
          "output_type": "execute_result",
          "data": {
            "text/html": [
              "<div>\n",
              "<style scoped>\n",
              "    .dataframe tbody tr th:only-of-type {\n",
              "        vertical-align: middle;\n",
              "    }\n",
              "\n",
              "    .dataframe tbody tr th {\n",
              "        vertical-align: top;\n",
              "    }\n",
              "\n",
              "    .dataframe thead th {\n",
              "        text-align: right;\n",
              "    }\n",
              "</style>\n",
              "<table border=\"1\" class=\"dataframe\">\n",
              "  <thead>\n",
              "    <tr style=\"text-align: right;\">\n",
              "      <th></th>\n",
              "      <th>Rank</th>\n",
              "      <th>Team/NOC</th>\n",
              "      <th>Gold</th>\n",
              "      <th>Silver</th>\n",
              "      <th>Bronze</th>\n",
              "      <th>Total</th>\n",
              "      <th>Rank by Total</th>\n",
              "    </tr>\n",
              "  </thead>\n",
              "  <tbody>\n",
              "    <tr>\n",
              "      <th>88</th>\n",
              "      <td>86</td>\n",
              "      <td>Ghana</td>\n",
              "      <td>0</td>\n",
              "      <td>0</td>\n",
              "      <td>1</td>\n",
              "      <td>1</td>\n",
              "      <td>77</td>\n",
              "    </tr>\n",
              "    <tr>\n",
              "      <th>89</th>\n",
              "      <td>86</td>\n",
              "      <td>Grenada</td>\n",
              "      <td>0</td>\n",
              "      <td>0</td>\n",
              "      <td>1</td>\n",
              "      <td>1</td>\n",
              "      <td>77</td>\n",
              "    </tr>\n",
              "    <tr>\n",
              "      <th>90</th>\n",
              "      <td>86</td>\n",
              "      <td>Kuwait</td>\n",
              "      <td>0</td>\n",
              "      <td>0</td>\n",
              "      <td>1</td>\n",
              "      <td>1</td>\n",
              "      <td>77</td>\n",
              "    </tr>\n",
              "    <tr>\n",
              "      <th>91</th>\n",
              "      <td>86</td>\n",
              "      <td>Republic of Moldova</td>\n",
              "      <td>0</td>\n",
              "      <td>0</td>\n",
              "      <td>1</td>\n",
              "      <td>1</td>\n",
              "      <td>77</td>\n",
              "    </tr>\n",
              "    <tr>\n",
              "      <th>92</th>\n",
              "      <td>86</td>\n",
              "      <td>Syrian Arab Republic</td>\n",
              "      <td>0</td>\n",
              "      <td>0</td>\n",
              "      <td>1</td>\n",
              "      <td>1</td>\n",
              "      <td>77</td>\n",
              "    </tr>\n",
              "  </tbody>\n",
              "</table>\n",
              "</div>"
            ],
            "text/plain": [
              "    Rank              Team/NOC  Gold  Silver  Bronze  Total  Rank by Total\n",
              "88    86                 Ghana     0       0       1      1             77\n",
              "89    86               Grenada     0       0       1      1             77\n",
              "90    86                Kuwait     0       0       1      1             77\n",
              "91    86   Republic of Moldova     0       0       1      1             77\n",
              "92    86  Syrian Arab Republic     0       0       1      1             77"
            ]
          },
          "metadata": {},
          "execution_count": 221
        }
      ]
    },
    {
      "cell_type": "markdown",
      "metadata": {
        "id": "-fW7LvY3MRDh"
      },
      "source": [
        "Descripcion de las columnas"
      ]
    },
    {
      "cell_type": "code",
      "metadata": {
        "colab": {
          "base_uri": "https://localhost:8080/"
        },
        "id": "i8FPgFhKMUFe",
        "outputId": "7f8321e7-1a61-45a0-8f9c-8b5732c0c81b"
      },
      "source": [
        "bd.columns"
      ],
      "execution_count": 222,
      "outputs": [
        {
          "output_type": "execute_result",
          "data": {
            "text/plain": [
              "Index(['Rank', 'Team/NOC', 'Gold', 'Silver', 'Bronze', 'Total',\n",
              "       'Rank by Total'],\n",
              "      dtype='object')"
            ]
          },
          "metadata": {},
          "execution_count": 222
        }
      ]
    },
    {
      "cell_type": "code",
      "metadata": {
        "colab": {
          "base_uri": "https://localhost:8080/"
        },
        "id": "4EhmbeqrMXH3",
        "outputId": "4e37a839-4c32-4680-ad33-e88afac03252"
      },
      "source": [
        "bd.dtypes"
      ],
      "execution_count": 223,
      "outputs": [
        {
          "output_type": "execute_result",
          "data": {
            "text/plain": [
              "Rank              int64\n",
              "Team/NOC         object\n",
              "Gold              int64\n",
              "Silver            int64\n",
              "Bronze            int64\n",
              "Total             int64\n",
              "Rank by Total     int64\n",
              "dtype: object"
            ]
          },
          "metadata": {},
          "execution_count": 223
        }
      ]
    },
    {
      "cell_type": "code",
      "metadata": {
        "colab": {
          "base_uri": "https://localhost:8080/"
        },
        "id": "Ht9TZD8aMi5f",
        "outputId": "153d3826-80c0-4435-c8cd-d09a8699697c"
      },
      "source": [
        "bd.isnull().sum()"
      ],
      "execution_count": 224,
      "outputs": [
        {
          "output_type": "execute_result",
          "data": {
            "text/plain": [
              "Rank             0\n",
              "Team/NOC         0\n",
              "Gold             0\n",
              "Silver           0\n",
              "Bronze           0\n",
              "Total            0\n",
              "Rank by Total    0\n",
              "dtype: int64"
            ]
          },
          "metadata": {},
          "execution_count": 224
        }
      ]
    },
    {
      "cell_type": "code",
      "metadata": {
        "colab": {
          "base_uri": "https://localhost:8080/",
          "height": 419
        },
        "id": "w7SLhPSbMnLA",
        "outputId": "fdf2a1a0-bce3-4995-bebd-3cfeff8ec700"
      },
      "source": [
        "bd = bd.rename(columns = {'Rank':'Rango'})\n",
        "bd = bd.rename(columns = {'Team/NOC':'Nacionalidad'})\n",
        "bd = bd.rename(columns = {'Gold':'Oro'})\n",
        "bd = bd.rename(columns = {'Silver':'Plata'})\n",
        "bd = bd.rename(columns = {'Rank by Total':'Rango Total Medallas'})\n",
        "bd"
      ],
      "execution_count": 225,
      "outputs": [
        {
          "output_type": "execute_result",
          "data": {
            "text/html": [
              "<div>\n",
              "<style scoped>\n",
              "    .dataframe tbody tr th:only-of-type {\n",
              "        vertical-align: middle;\n",
              "    }\n",
              "\n",
              "    .dataframe tbody tr th {\n",
              "        vertical-align: top;\n",
              "    }\n",
              "\n",
              "    .dataframe thead th {\n",
              "        text-align: right;\n",
              "    }\n",
              "</style>\n",
              "<table border=\"1\" class=\"dataframe\">\n",
              "  <thead>\n",
              "    <tr style=\"text-align: right;\">\n",
              "      <th></th>\n",
              "      <th>Rango</th>\n",
              "      <th>Nacionalidad</th>\n",
              "      <th>Oro</th>\n",
              "      <th>Plata</th>\n",
              "      <th>Bronze</th>\n",
              "      <th>Total</th>\n",
              "      <th>Rango Total Medallas</th>\n",
              "    </tr>\n",
              "  </thead>\n",
              "  <tbody>\n",
              "    <tr>\n",
              "      <th>0</th>\n",
              "      <td>1</td>\n",
              "      <td>United States of America</td>\n",
              "      <td>39</td>\n",
              "      <td>41</td>\n",
              "      <td>33</td>\n",
              "      <td>113</td>\n",
              "      <td>1</td>\n",
              "    </tr>\n",
              "    <tr>\n",
              "      <th>1</th>\n",
              "      <td>2</td>\n",
              "      <td>People's Republic of China</td>\n",
              "      <td>38</td>\n",
              "      <td>32</td>\n",
              "      <td>18</td>\n",
              "      <td>88</td>\n",
              "      <td>2</td>\n",
              "    </tr>\n",
              "    <tr>\n",
              "      <th>2</th>\n",
              "      <td>3</td>\n",
              "      <td>Japan</td>\n",
              "      <td>27</td>\n",
              "      <td>14</td>\n",
              "      <td>17</td>\n",
              "      <td>58</td>\n",
              "      <td>5</td>\n",
              "    </tr>\n",
              "    <tr>\n",
              "      <th>3</th>\n",
              "      <td>4</td>\n",
              "      <td>Great Britain</td>\n",
              "      <td>22</td>\n",
              "      <td>21</td>\n",
              "      <td>22</td>\n",
              "      <td>65</td>\n",
              "      <td>4</td>\n",
              "    </tr>\n",
              "    <tr>\n",
              "      <th>4</th>\n",
              "      <td>5</td>\n",
              "      <td>ROC</td>\n",
              "      <td>20</td>\n",
              "      <td>28</td>\n",
              "      <td>23</td>\n",
              "      <td>71</td>\n",
              "      <td>3</td>\n",
              "    </tr>\n",
              "    <tr>\n",
              "      <th>...</th>\n",
              "      <td>...</td>\n",
              "      <td>...</td>\n",
              "      <td>...</td>\n",
              "      <td>...</td>\n",
              "      <td>...</td>\n",
              "      <td>...</td>\n",
              "      <td>...</td>\n",
              "    </tr>\n",
              "    <tr>\n",
              "      <th>88</th>\n",
              "      <td>86</td>\n",
              "      <td>Ghana</td>\n",
              "      <td>0</td>\n",
              "      <td>0</td>\n",
              "      <td>1</td>\n",
              "      <td>1</td>\n",
              "      <td>77</td>\n",
              "    </tr>\n",
              "    <tr>\n",
              "      <th>89</th>\n",
              "      <td>86</td>\n",
              "      <td>Grenada</td>\n",
              "      <td>0</td>\n",
              "      <td>0</td>\n",
              "      <td>1</td>\n",
              "      <td>1</td>\n",
              "      <td>77</td>\n",
              "    </tr>\n",
              "    <tr>\n",
              "      <th>90</th>\n",
              "      <td>86</td>\n",
              "      <td>Kuwait</td>\n",
              "      <td>0</td>\n",
              "      <td>0</td>\n",
              "      <td>1</td>\n",
              "      <td>1</td>\n",
              "      <td>77</td>\n",
              "    </tr>\n",
              "    <tr>\n",
              "      <th>91</th>\n",
              "      <td>86</td>\n",
              "      <td>Republic of Moldova</td>\n",
              "      <td>0</td>\n",
              "      <td>0</td>\n",
              "      <td>1</td>\n",
              "      <td>1</td>\n",
              "      <td>77</td>\n",
              "    </tr>\n",
              "    <tr>\n",
              "      <th>92</th>\n",
              "      <td>86</td>\n",
              "      <td>Syrian Arab Republic</td>\n",
              "      <td>0</td>\n",
              "      <td>0</td>\n",
              "      <td>1</td>\n",
              "      <td>1</td>\n",
              "      <td>77</td>\n",
              "    </tr>\n",
              "  </tbody>\n",
              "</table>\n",
              "<p>93 rows × 7 columns</p>\n",
              "</div>"
            ],
            "text/plain": [
              "    Rango                Nacionalidad  Oro  ...  Bronze  Total  Rango Total Medallas\n",
              "0       1    United States of America   39  ...      33    113                     1\n",
              "1       2  People's Republic of China   38  ...      18     88                     2\n",
              "2       3                       Japan   27  ...      17     58                     5\n",
              "3       4               Great Britain   22  ...      22     65                     4\n",
              "4       5                         ROC   20  ...      23     71                     3\n",
              "..    ...                         ...  ...  ...     ...    ...                   ...\n",
              "88     86                       Ghana    0  ...       1      1                    77\n",
              "89     86                     Grenada    0  ...       1      1                    77\n",
              "90     86                      Kuwait    0  ...       1      1                    77\n",
              "91     86         Republic of Moldova    0  ...       1      1                    77\n",
              "92     86        Syrian Arab Republic    0  ...       1      1                    77\n",
              "\n",
              "[93 rows x 7 columns]"
            ]
          },
          "metadata": {},
          "execution_count": 225
        }
      ]
    },
    {
      "cell_type": "code",
      "metadata": {
        "colab": {
          "base_uri": "https://localhost:8080/"
        },
        "id": "pDZZxGsAONR2",
        "outputId": "b4ef7dd7-f37c-4fe8-e9ce-c8d520911613"
      },
      "source": [
        "bd.Oro.astype(\"object\")"
      ],
      "execution_count": 213,
      "outputs": [
        {
          "output_type": "execute_result",
          "data": {
            "text/plain": [
              "0     39\n",
              "1     38\n",
              "2     27\n",
              "3     22\n",
              "4     20\n",
              "      ..\n",
              "88     0\n",
              "89     0\n",
              "90     0\n",
              "91     0\n",
              "92     0\n",
              "Name: Oro, Length: 93, dtype: object"
            ]
          },
          "metadata": {},
          "execution_count": 213
        }
      ]
    },
    {
      "cell_type": "code",
      "metadata": {
        "colab": {
          "base_uri": "https://localhost:8080/"
        },
        "id": "07nwhG7rN_az",
        "outputId": "054090a8-f05a-4433-f3df-8f96f53d5039"
      },
      "source": [
        "list(bd.Oro.unique())"
      ],
      "execution_count": 214,
      "outputs": [
        {
          "output_type": "execute_result",
          "data": {
            "text/plain": [
              "[39, 38, 27, 22, 20, 17, 10, 7, 6, 4, 3, 2, 1, 0]"
            ]
          },
          "metadata": {},
          "execution_count": 214
        }
      ]
    },
    {
      "cell_type": "code",
      "metadata": {
        "colab": {
          "base_uri": "https://localhost:8080/",
          "height": 49
        },
        "id": "a0Y4eXvMPNLc",
        "outputId": "9f8d06f9-510a-47bf-b5c3-25c717f29e58"
      },
      "source": [
        "bdOro1 = bd[bd['Oro'] == '8']\n",
        "bdOro1"
      ],
      "execution_count": 230,
      "outputs": [
        {
          "output_type": "execute_result",
          "data": {
            "text/html": [
              "<div>\n",
              "<style scoped>\n",
              "    .dataframe tbody tr th:only-of-type {\n",
              "        vertical-align: middle;\n",
              "    }\n",
              "\n",
              "    .dataframe tbody tr th {\n",
              "        vertical-align: top;\n",
              "    }\n",
              "\n",
              "    .dataframe thead th {\n",
              "        text-align: right;\n",
              "    }\n",
              "</style>\n",
              "<table border=\"1\" class=\"dataframe\">\n",
              "  <thead>\n",
              "    <tr style=\"text-align: right;\">\n",
              "      <th></th>\n",
              "      <th>Rango</th>\n",
              "      <th>Nacionalidad</th>\n",
              "      <th>Oro</th>\n",
              "      <th>Plata</th>\n",
              "      <th>Bronze</th>\n",
              "      <th>Total</th>\n",
              "      <th>Rango Total Medallas</th>\n",
              "    </tr>\n",
              "  </thead>\n",
              "  <tbody>\n",
              "  </tbody>\n",
              "</table>\n",
              "</div>"
            ],
            "text/plain": [
              "Empty DataFrame\n",
              "Columns: [Rango, Nacionalidad, Oro, Plata, Bronze, Total, Rango Total Medallas]\n",
              "Index: []"
            ]
          },
          "metadata": {},
          "execution_count": 230
        }
      ]
    },
    {
      "cell_type": "code",
      "metadata": {
        "id": "Da37sNGrO91W"
      },
      "source": [
        "bdOro1.to_csv('bdOro1.csv', index=False)"
      ],
      "execution_count": 231,
      "outputs": []
    }
  ]
}