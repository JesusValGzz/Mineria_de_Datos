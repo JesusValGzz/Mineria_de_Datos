{
  "nbformat": 4,
  "nbformat_minor": 0,
  "metadata": {
    "colab": {
      "name": "Ejercicio de python.ipynb",
      "provenance": []
    },
    "kernelspec": {
      "name": "python3",
      "display_name": "Python 3"
    },
    "language_info": {
      "name": "python"
    }
  },
  "cells": [
    {
      "cell_type": "markdown",
      "metadata": {
        "id": "TNUMdyLhr3BV"
      },
      "source": [
        "Ejercicios de python"
      ]
    },
    {
      "cell_type": "markdown",
      "metadata": {
        "id": "5ORXt9OCdLNB"
      },
      "source": [
        "**Ejercicio 1**"
      ]
    },
    {
      "cell_type": "code",
      "metadata": {
        "id": "SPvTHRYZr8-g",
        "colab": {
          "base_uri": "https://localhost:8080/"
        },
        "outputId": "5d29bf73-d01b-4704-c396-01e9a38ef02b"
      },
      "source": [
        "m = 1630606\n",
        "print (\"Jesus Eduardo Valencia González\", m)"
      ],
      "execution_count": 3,
      "outputs": [
        {
          "output_type": "stream",
          "text": [
            "Jesus Eduardo Valencia González 1630606\n"
          ],
          "name": "stdout"
        }
      ]
    },
    {
      "cell_type": "markdown",
      "metadata": {
        "id": "9hTtZmVCd3nc"
      },
      "source": [
        "**Ejercicio 2**"
      ]
    },
    {
      "cell_type": "code",
      "metadata": {
        "colab": {
          "base_uri": "https://localhost:8080/"
        },
        "id": "QFITqiDJd5e8",
        "outputId": "0cf0dd88-b192-45ad-ed87-73d100c271d8"
      },
      "source": [
        "import math as m\n",
        "\n",
        "nu1 = int(input(\"Escriba el Numero 1:\"))\n",
        "nu2 = int(input(\"Escriba el Numero 2:\"))\n",
        "\n",
        "suma = nu1 + nu2\n",
        "resta = nu1 - nu2\n",
        "multiplicacion = nu1 * nu2\n",
        "division = nu1 / nu2\n",
        "exponente= m.exp(nu1)\n",
        "\n",
        "print(\"Suma = \",suma)\n",
        "print(\"Resta = \", resta)\n",
        "print(\"Multiplicacion =  \", multiplicacion)\n",
        "print(\"Division: = \", division)\n",
        "print(\"Exponente: = \", exponente)"
      ],
      "execution_count": 5,
      "outputs": [
        {
          "output_type": "stream",
          "text": [
            "Escriba el Numero 1:2\n",
            "Escriba el Numero 2:4\n",
            "Suma =  6\n",
            "Resta =  -2\n",
            "Multiplicacion =   8\n",
            "Division: =  0.5\n",
            "Exponente: =  7.38905609893065\n"
          ],
          "name": "stdout"
        }
      ]
    },
    {
      "cell_type": "markdown",
      "metadata": {
        "id": "AnaGJcrYexuE"
      },
      "source": [
        "**Ejercicio 3**"
      ]
    },
    {
      "cell_type": "code",
      "metadata": {
        "colab": {
          "base_uri": "https://localhost:8080/"
        },
        "id": "ZFtJKyrKezti",
        "outputId": "073c89a9-4143-4054-a03a-fc7bffcb4523"
      },
      "source": [
        "lista = []\n",
        "suma = 0\n",
        "for i in range (0, 30, 3):\n",
        "    lista.append(i)\n",
        "print (lista)\n",
        "\n",
        "for i in lista:\n",
        "    \n",
        "    suma = suma + i\n",
        "    \n",
        "print(\"Resultado es = \", suma)"
      ],
      "execution_count": 8,
      "outputs": [
        {
          "output_type": "stream",
          "text": [
            "[0, 3, 6, 9, 12, 15, 18, 21, 24, 27]\n",
            "Resultado es =  135\n"
          ],
          "name": "stdout"
        }
      ]
    },
    {
      "cell_type": "markdown",
      "metadata": {
        "id": "4fA4WCGBfvoB"
      },
      "source": [
        "**Ejercicio 4**"
      ]
    },
    {
      "cell_type": "code",
      "metadata": {
        "colab": {
          "base_uri": "https://localhost:8080/"
        },
        "id": "QTMXtevQf8-n",
        "outputId": "4fc0de58-8049-45f9-efca-ed3a73a4c6b5"
      },
      "source": [
        "a = int(input(\"Piensa en un numero: \"))\n",
        "if a % 2 == 0:\n",
        "    print(a, \"Tu numero es par\")\n",
        "else:\n",
        "    print(a, \"Tu numero es impar\")"
      ],
      "execution_count": 11,
      "outputs": [
        {
          "output_type": "stream",
          "text": [
            "Piensa en un numero: 2\n",
            "2 Tu numero es par\n"
          ],
          "name": "stdout"
        }
      ]
    },
    {
      "cell_type": "markdown",
      "metadata": {
        "id": "r0cHGRDVgIxJ"
      },
      "source": [
        "**Ejercicio 5**"
      ]
    },
    {
      "cell_type": "code",
      "metadata": {
        "colab": {
          "base_uri": "https://localhost:8080/"
        },
        "id": "CuP4XKJPgKgU",
        "outputId": "8b06d434-b64b-47a0-80a9-ad6362efa3d5"
      },
      "source": [
        "import math as m\n",
        "\n",
        "def resta(num1, num2):\n",
        "        r = num1 - num2\n",
        "        return r\n",
        "\n",
        "def suma(num1, num2):\n",
        "        sum = num1 + num2\n",
        "        return sum\n",
        "\n",
        "def multiplicacion(num1, num2):\n",
        "        mult = num1 * num2\n",
        "        return mult\n",
        "\n",
        "def division(num1, num2):\n",
        "        div = num1 / num2\n",
        "        return div\n",
        "\n",
        "def exponente(num1):\n",
        "        exp = m.exp(num1)\n",
        "        return exp\n",
        "\n",
        "num1 = int(input(\"Numero 1: \"))\n",
        "\n",
        "num2 = int(input(\"Numero 2: \"))\n",
        "\n",
        "print(\"Suma: \",suma(num1,num2))\n",
        "\n",
        "print(\"Resta: \", resta(num1,num2))\n",
        "\n",
        "print(\"Multiplicacion: \", multiplicacion(num1,num2))\n",
        "\n",
        "print(\"Division: \", division(num1,num2))\n",
        "\n",
        "print(\"Exponencial: \", exponente(num1))"
      ],
      "execution_count": 12,
      "outputs": [
        {
          "output_type": "stream",
          "text": [
            "Numero 1: 2\n",
            "Numero 2: 3\n",
            "Suma:  5\n",
            "Resta:  -1\n",
            "Multiplicacion:  6\n",
            "Division:  0.6666666666666666\n",
            "Exponencial:  7.38905609893065\n"
          ],
          "name": "stdout"
        }
      ]
    },
    {
      "cell_type": "markdown",
      "metadata": {
        "id": "EKVF38j_nIgN"
      },
      "source": [
        "**Tuplas**"
      ]
    },
    {
      "cell_type": "code",
      "metadata": {
        "colab": {
          "base_uri": "https://localhost:8080/"
        },
        "id": "ORrqFA8enKHu",
        "outputId": "5cd60333-b53c-4ade-9bec-6978d9889d61"
      },
      "source": [
        "flotante = 8.88\n",
        "integer = 8\n",
        "booleana = False\n",
        "compleja = 8 + 8j\n",
        "\n",
        "print(flotante, type(flotante))\n",
        "\n",
        "print(integer, type(integer))\n",
        "\n",
        "print(booleana, type(booleana))\n",
        "\n",
        "print(compleja, type(compleja))"
      ],
      "execution_count": 13,
      "outputs": [
        {
          "output_type": "stream",
          "text": [
            "8.88 <class 'float'>\n",
            "8 <class 'int'>\n",
            "False <class 'bool'>\n",
            "(8+8j) <class 'complex'>\n"
          ],
          "name": "stdout"
        }
      ]
    },
    {
      "cell_type": "code",
      "metadata": {
        "colab": {
          "base_uri": "https://localhost:8080/"
        },
        "id": "nz2ig2xkoQzn",
        "outputId": "dad4a5dc-7c9c-4cbd-f275-9df522a6d319"
      },
      "source": [
        "tupla = (1, 2, 3, 4)\n",
        "print(tupla)\n",
        "print(\"Primero: \", tupla[0])\n",
        "print(\"Ultimo: \", tupla[3])"
      ],
      "execution_count": 14,
      "outputs": [
        {
          "output_type": "stream",
          "text": [
            "(1, 2, 3, 4)\n",
            "Primero:  1\n",
            "Ultimo:  4\n"
          ],
          "name": "stdout"
        }
      ]
    },
    {
      "cell_type": "code",
      "metadata": {
        "colab": {
          "base_uri": "https://localhost:8080/"
        },
        "id": "S0ICAxviogEl",
        "outputId": "b5da5d61-4015-48c3-c94c-ff5139da3a59"
      },
      "source": [
        "tupla = (\"H\", \"o\", \"l\", \"a\")\n",
        "print(\"Tupla normal: \", tupla)\n",
        "tupla = list(tupla)\n",
        "tupla.append(\"A\")\n",
        "tupla.append(\"m\")\n",
        "tupla.append(\"i\")\n",
        "tupla.append(\"g\")\n",
        "tupla.append(\"o\")\n",
        "tupla.append(\"s\")\n",
        "tupla = tuple(tupla)\n",
        "print(\"Tupla con agregados\", tupla)"
      ],
      "execution_count": 15,
      "outputs": [
        {
          "output_type": "stream",
          "text": [
            "Tupla normal:  ('H', 'o', 'l', 'a')\n",
            "Tupla con agregados ('H', 'o', 'l', 'a', 'A', 'm', 'i', 'g', 'o', 's')\n"
          ],
          "name": "stdout"
        }
      ]
    },
    {
      "cell_type": "markdown",
      "metadata": {
        "id": "FnGWsatvoyuy"
      },
      "source": [
        "**Listas**"
      ]
    },
    {
      "cell_type": "code",
      "metadata": {
        "colab": {
          "base_uri": "https://localhost:8080/"
        },
        "id": "vmxnNRjao0RX",
        "outputId": "1891c3ef-0bf4-457e-92e5-6ccd2039a744"
      },
      "source": [
        "import random\n",
        "listaNumerosAleatorios = random.sample(range(0, 40), 40)\n",
        "print('Lista de números aleatorios:\\n', listaNumerosAleatorios)"
      ],
      "execution_count": 17,
      "outputs": [
        {
          "output_type": "stream",
          "text": [
            "Lista de números aleatorios:\n",
            " [11, 22, 35, 13, 18, 32, 7, 5, 26, 2, 21, 25, 23, 0, 24, 34, 38, 9, 14, 29, 30, 1, 31, 17, 19, 6, 8, 37, 3, 28, 20, 33, 36, 15, 27, 10, 12, 16, 39, 4]\n"
          ],
          "name": "stdout"
        }
      ]
    },
    {
      "cell_type": "code",
      "metadata": {
        "colab": {
          "base_uri": "https://localhost:8080/"
        },
        "id": "WBYLRYsvo5os",
        "outputId": "fe77a2b9-1ef8-424a-ceef-85eb5fbef54c"
      },
      "source": [
        "import random\n",
        "\n",
        "def filtrar_pares_impares(listaNumeros):\n",
        "    listaNumerosPares = []\n",
        "    listaNumerosImpares = []\n",
        "    \n",
        "    for numero in listaNumeros:\n",
        "        if (numero % 2) == 0:\n",
        "            listaNumerosPares.append(numero)\n",
        "        else:\n",
        "            listaNumerosImpares.append(numero)\n",
        "    return listaNumerosPares, listaNumerosImpares\n",
        "\n",
        "listaNumerosAleatorios = random.sample(range(0, 82), 40)\n",
        "listaNumerosPares, listaNumerosImpares = filtrar_pares_impares(listaNumerosAleatorios)\n",
        "\n",
        "print('Lista de números aleatorios:\\n', listaNumerosAleatorios, '\\n')\n",
        "print('Lista de números pares:\\n', listaNumerosPares, '\\n')\n",
        "print('Lista de números impares:\\n', listaNumerosImpares)"
      ],
      "execution_count": 18,
      "outputs": [
        {
          "output_type": "stream",
          "text": [
            "Lista de números aleatorios:\n",
            " [66, 76, 65, 55, 53, 77, 59, 69, 3, 18, 32, 26, 57, 22, 7, 38, 61, 34, 72, 60, 50, 16, 68, 6, 29, 58, 30, 25, 31, 41, 1, 79, 17, 48, 54, 23, 21, 8, 9, 37] \n",
            "\n",
            "Lista de números pares:\n",
            " [66, 76, 18, 32, 26, 22, 38, 34, 72, 60, 50, 16, 68, 6, 58, 30, 48, 54, 8] \n",
            "\n",
            "Lista de números impares:\n",
            " [65, 55, 53, 77, 59, 69, 3, 57, 7, 61, 29, 25, 31, 41, 1, 79, 17, 23, 21, 9, 37]\n"
          ],
          "name": "stdout"
        }
      ]
    },
    {
      "cell_type": "code",
      "metadata": {
        "colab": {
          "base_uri": "https://localhost:8080/"
        },
        "id": "Q2s9su-upiuT",
        "outputId": "ded06af3-019b-4d0d-eeb1-e2626f1c11f0"
      },
      "source": [
        "longitudLista1 = len(listaNumerosPares)\n",
        "longitudLista2 = len(listaNumerosImpares)\n",
        "\n",
        "print('Longitud lista de pares:', longitudLista1)\n",
        "print('Longitud lista de impares:', longitudLista2)"
      ],
      "execution_count": 19,
      "outputs": [
        {
          "output_type": "stream",
          "text": [
            "Longitud lista de pares: 19\n",
            "Longitud lista de impares: 21\n"
          ],
          "name": "stdout"
        }
      ]
    },
    {
      "cell_type": "code",
      "metadata": {
        "colab": {
          "base_uri": "https://localhost:8080/"
        },
        "id": "4uQmvxwNpqIH",
        "outputId": "620cf38b-ec56-4026-facf-cc7722fd2efa"
      },
      "source": [
        "listaNumerosPares.sort(reverse=True)\n",
        "listaNumerosImpares.sort()\n",
        "\n",
        "print('Lista par de mayor a menor:', listaNumerosPares)\n",
        "print('Lista impar de menor a mayor:', listaNumerosImpares)"
      ],
      "execution_count": 20,
      "outputs": [
        {
          "output_type": "stream",
          "text": [
            "Lista par de mayor a menor: [76, 72, 68, 66, 60, 58, 54, 50, 48, 38, 34, 32, 30, 26, 22, 18, 16, 8, 6]\n",
            "Lista impar de menor a mayor: [1, 3, 7, 9, 17, 21, 23, 25, 29, 31, 37, 41, 53, 55, 57, 59, 61, 65, 69, 77, 79]\n"
          ],
          "name": "stdout"
        }
      ]
    },
    {
      "cell_type": "markdown",
      "metadata": {
        "id": "IB9VVZS2pv5q"
      },
      "source": [
        "**Diccionarios**"
      ]
    },
    {
      "cell_type": "code",
      "metadata": {
        "colab": {
          "base_uri": "https://localhost:8080/"
        },
        "id": "nCAQmMePpxl9",
        "outputId": "b9ece7fe-12ac-4900-c5fc-5cd25b62bbfb"
      },
      "source": [
        "diccionario = {\"Laura \": 22, \"Jesus\":24, \"Lidia\": 17, \"Marcelo\": 18, \"Fernanda\": 19, \"Ruth\":28 }\n",
        "print(diccionario)"
      ],
      "execution_count": 21,
      "outputs": [
        {
          "output_type": "stream",
          "text": [
            "{'Laura ': 22, 'Jesus': 24, 'Lidia': 17, 'Marcelo': 18, 'Fernanda': 19, 'Ruth': 28}\n"
          ],
          "name": "stdout"
        }
      ]
    },
    {
      "cell_type": "code",
      "metadata": {
        "colab": {
          "base_uri": "https://localhost:8080/"
        },
        "id": "G6LIyenjqLDn",
        "outputId": "c6b83404-7673-4f1a-d91c-e455e16fd2b5"
      },
      "source": [
        "diccionario = {\"Laura \": 22, \"Jesus\":24, \"Lidia\": 17, \"Marcelo\": 18, \"Fernanda\": 19, \"Ruth\":28 }\n",
        "lista = diccionario.values()\n",
        "print(\"Edades ordenadas: \", sorted(lista))"
      ],
      "execution_count": 23,
      "outputs": [
        {
          "output_type": "stream",
          "text": [
            "Edades ordenadas:  [17, 18, 19, 22, 24, 28]\n"
          ],
          "name": "stdout"
        }
      ]
    },
    {
      "cell_type": "code",
      "metadata": {
        "colab": {
          "base_uri": "https://localhost:8080/"
        },
        "id": "E2pKTjuyqU6P",
        "outputId": "df794013-c450-4bfb-d04c-89c504700b23"
      },
      "source": [
        "diccionario = {\"Laura \": 22, \"Jesus\":24, \"Lidia\": 17, \"Marcelo\": 18, \"Fernanda\": 19, \"Ruth\":28 }\n",
        "\n",
        "lista=list(diccionario.keys())\n",
        "\n",
        "for i in lista:\n",
        "    print(i)"
      ],
      "execution_count": 24,
      "outputs": [
        {
          "output_type": "stream",
          "text": [
            "Laura \n",
            "Jesus\n",
            "Lidia\n",
            "Marcelo\n",
            "Fernanda\n",
            "Ruth\n"
          ],
          "name": "stdout"
        }
      ]
    },
    {
      "cell_type": "code",
      "metadata": {
        "colab": {
          "base_uri": "https://localhost:8080/"
        },
        "id": "-ESFdaR-qc_v",
        "outputId": "c755ef7e-4d16-4f29-fa27-5d37023c400b"
      },
      "source": [
        "diccionario = {\"Laura \": 22, \"Jesus\":24, \"Lidia\": 17, \"Marcelo\": 18, \"Fernanda\": 19, \"Ruth\":28  }\n",
        "diccionario[\"Pablo\"] = 20\n",
        "diccionario[\"Baude\"] = 50\n",
        "print(diccionario)"
      ],
      "execution_count": 26,
      "outputs": [
        {
          "output_type": "stream",
          "text": [
            "{'Laura ': 22, 'Jesus': 24, 'Lidia': 17, 'Marcelo': 18, 'Fernanda': 19, 'Ruth': 28, 'Pablo': 20, 'Baude': 50}\n"
          ],
          "name": "stdout"
        }
      ]
    },
    {
      "cell_type": "markdown",
      "metadata": {
        "id": "kJkWQbG1qq3F"
      },
      "source": [
        "**Sets**"
      ]
    },
    {
      "cell_type": "code",
      "metadata": {
        "colab": {
          "base_uri": "https://localhost:8080/"
        },
        "id": "QC8MU1YnqshX",
        "outputId": "cc1d9480-0a38-4ac0-91fc-186c36579252"
      },
      "source": [
        "import random\n",
        "\n",
        "listaNumerosAleatorios = []\n",
        "for numero in range(0, 100):\n",
        "    n = random.randrange(1, 25)\n",
        "    listaNumerosAleatorios.append(n)\n",
        "print(listaNumerosAleatorios, '\\n')\n",
        "setNumerosAleatorios = set(listaNumerosAleatorios)\n",
        "print(setNumerosAleatorios, '\\n')\n",
        "print('Los sets no pueden contener elementos duplicados')"
      ],
      "execution_count": 28,
      "outputs": [
        {
          "output_type": "stream",
          "text": [
            "[15, 3, 7, 20, 8, 17, 4, 20, 4, 5, 19, 9, 20, 18, 21, 22, 12, 15, 12, 6, 21, 20, 17, 1, 19, 4, 9, 2, 10, 21, 5, 16, 15, 5, 7, 5, 9, 5, 9, 12, 9, 9, 1, 15, 18, 18, 7, 21, 23, 11, 1, 23, 24, 2, 13, 3, 16, 7, 9, 8, 12, 8, 11, 11, 4, 24, 23, 3, 1, 18, 2, 17, 13, 13, 6, 2, 24, 12, 1, 22, 8, 23, 20, 15, 16, 5, 15, 13, 2, 11, 21, 8, 11, 17, 11, 5, 10, 12, 18, 9] \n",
            "\n",
            "{1, 2, 3, 4, 5, 6, 7, 8, 9, 10, 11, 12, 13, 15, 16, 17, 18, 19, 20, 21, 22, 23, 24} \n",
            "\n",
            "Los sets no pueden contener elementos duplicados\n"
          ],
          "name": "stdout"
        }
      ]
    },
    {
      "cell_type": "code",
      "metadata": {
        "colab": {
          "base_uri": "https://localhost:8080/"
        },
        "id": "Tgdf6XLYq6H7",
        "outputId": "e67cadd5-20ff-425a-9019-2856c91c07cf"
      },
      "source": [
        "print('Longitud set:', len(setNumerosAleatorios))"
      ],
      "execution_count": 29,
      "outputs": [
        {
          "output_type": "stream",
          "text": [
            "Longitud set: 23\n"
          ],
          "name": "stdout"
        }
      ]
    },
    {
      "cell_type": "code",
      "metadata": {
        "colab": {
          "base_uri": "https://localhost:8080/"
        },
        "id": "bq7XpzIeq8_X",
        "outputId": "b7cb4fac-3df1-4624-e6d3-b2d1c69c3eb3"
      },
      "source": [
        "\n",
        "import random\n",
        "\n",
        "listaNumerosAleatorios = []\n",
        "for numero in range(0, 5):\n",
        "    n = random.randrange(1, 10)\n",
        "    listaNumerosAleatorios.append(n)\n",
        "print(listaNumerosAleatorios, '\\n')\n",
        "print(setNumerosAleatorios, '\\n')"
      ],
      "execution_count": 30,
      "outputs": [
        {
          "output_type": "stream",
          "text": [
            "[6, 1, 1, 7, 2] \n",
            "\n",
            "{1, 2, 3, 4, 5, 6, 7, 8, 9, 10, 11, 12, 13, 15, 16, 17, 18, 19, 20, 21, 22, 23, 24} \n",
            "\n"
          ],
          "name": "stdout"
        }
      ]
    },
    {
      "cell_type": "markdown",
      "metadata": {
        "id": "m4239KAMrRnQ"
      },
      "source": [
        "Si aparece cada valor en el set original\n"
      ]
    }
  ]
}